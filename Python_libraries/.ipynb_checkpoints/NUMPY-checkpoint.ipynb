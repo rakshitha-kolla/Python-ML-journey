{
 "cells": [
  {
   "cell_type": "code",
   "execution_count": 1,
   "id": "f2e9b93f-a7c5-449f-9acc-2531270c3c3b",
   "metadata": {},
   "outputs": [],
   "source": [
    "import numpy as np"
   ]
  },
  {
   "cell_type": "code",
   "execution_count": 3,
   "id": "38e7902a-ccb0-4037-a0c4-1eca618e4d57",
   "metadata": {},
   "outputs": [
    {
     "name": "stdout",
     "output_type": "stream",
     "text": [
      "[1 2 3]\n"
     ]
    }
   ],
   "source": [
    "a=np.array([1,2,3])\n",
    "print(a)"
   ]
  },
  {
   "cell_type": "code",
   "execution_count": 4,
   "id": "5294eda5-1bc4-4f99-82ba-422301bb4b05",
   "metadata": {},
   "outputs": [
    {
     "data": {
      "text/plain": [
       "(3,)"
      ]
     },
     "execution_count": 4,
     "metadata": {},
     "output_type": "execute_result"
    }
   ],
   "source": [
    "a.shape"
   ]
  },
  {
   "cell_type": "code",
   "execution_count": 5,
   "id": "311c03fb-f9d0-4997-add8-a5ef37dbd174",
   "metadata": {},
   "outputs": [
    {
     "data": {
      "text/plain": [
       "1"
      ]
     },
     "execution_count": 5,
     "metadata": {},
     "output_type": "execute_result"
    }
   ],
   "source": [
    "a.ndim"
   ]
  },
  {
   "cell_type": "code",
   "execution_count": 6,
   "id": "434faa85-59fa-4a2b-b44a-473b959816f6",
   "metadata": {},
   "outputs": [
    {
     "data": {
      "text/plain": [
       "3"
      ]
     },
     "execution_count": 6,
     "metadata": {},
     "output_type": "execute_result"
    }
   ],
   "source": [
    "a.size"
   ]
  },
  {
   "cell_type": "code",
   "execution_count": 7,
   "id": "8481750d-7119-434e-88f7-1c2d45520610",
   "metadata": {},
   "outputs": [
    {
     "data": {
      "text/plain": [
       "24"
      ]
     },
     "execution_count": 7,
     "metadata": {},
     "output_type": "execute_result"
    }
   ],
   "source": [
    "a.nbytes"
   ]
  },
  {
   "cell_type": "code",
   "execution_count": 8,
   "id": "6e0afb7b-854d-42de-b80d-9b1a15449abb",
   "metadata": {},
   "outputs": [
    {
     "data": {
      "text/plain": [
       "8"
      ]
     },
     "execution_count": 8,
     "metadata": {},
     "output_type": "execute_result"
    }
   ],
   "source": [
    "a.itemsize"
   ]
  },
  {
   "cell_type": "code",
   "execution_count": 9,
   "id": "ce88a833-3480-4a04-b7e7-4e3abc4ad4d8",
   "metadata": {},
   "outputs": [
    {
     "data": {
      "text/plain": [
       "dtype('int64')"
      ]
     },
     "execution_count": 9,
     "metadata": {},
     "output_type": "execute_result"
    }
   ],
   "source": [
    "a.dtype"
   ]
  },
  {
   "cell_type": "code",
   "execution_count": 10,
   "id": "122b0a66-ce2d-4673-8cd1-9c494a5e7509",
   "metadata": {},
   "outputs": [],
   "source": [
    "b=np.array([[1,2,3],[4,5.,6]])"
   ]
  },
  {
   "cell_type": "code",
   "execution_count": 11,
   "id": "38b78cd3-0429-4dba-9317-cb724a21538a",
   "metadata": {},
   "outputs": [
    {
     "name": "stdout",
     "output_type": "stream",
     "text": [
      "[[1. 2. 3.]\n",
      " [4. 5. 6.]]\n"
     ]
    }
   ],
   "source": [
    "print(b)"
   ]
  },
  {
   "cell_type": "code",
   "execution_count": 15,
   "id": "0a074905-6f65-4907-915b-18fd93a5c0a0",
   "metadata": {},
   "outputs": [
    {
     "name": "stdout",
     "output_type": "stream",
     "text": [
      "['c' '1' '2']\n"
     ]
    }
   ],
   "source": [
    "a=np.array([\"c\",1,2])\n",
    "print(a)"
   ]
  },
  {
   "cell_type": "code",
   "execution_count": 16,
   "id": "daba0b39-b2e6-4a2d-b31f-562c40562ab9",
   "metadata": {},
   "outputs": [
    {
     "data": {
      "text/plain": [
       "dtype('<U21')"
      ]
     },
     "execution_count": 16,
     "metadata": {},
     "output_type": "execute_result"
    }
   ],
   "source": [
    "a.dtype"
   ]
  },
  {
   "cell_type": "code",
   "execution_count": 17,
   "id": "b79e78dc-f739-4f63-9f19-472dbd7c6253",
   "metadata": {},
   "outputs": [
    {
     "data": {
      "text/plain": [
       "(2, 3)"
      ]
     },
     "execution_count": 17,
     "metadata": {},
     "output_type": "execute_result"
    }
   ],
   "source": [
    "b.shape"
   ]
  },
  {
   "cell_type": "code",
   "execution_count": 18,
   "id": "1ce93185-d718-4cd6-9e12-17c8771f9b5b",
   "metadata": {},
   "outputs": [
    {
     "data": {
      "text/plain": [
       "6"
      ]
     },
     "execution_count": 18,
     "metadata": {},
     "output_type": "execute_result"
    }
   ],
   "source": [
    "b.size"
   ]
  },
  {
   "cell_type": "code",
   "execution_count": 20,
   "id": "84946a21-8b28-4e82-bfb5-8ea264bc3206",
   "metadata": {},
   "outputs": [
    {
     "data": {
      "text/plain": [
       "8"
      ]
     },
     "execution_count": 20,
     "metadata": {},
     "output_type": "execute_result"
    }
   ],
   "source": [
    "b.itemsize"
   ]
  },
  {
   "cell_type": "code",
   "execution_count": 21,
   "id": "081c793f-7c52-4110-904a-68a866b713d6",
   "metadata": {},
   "outputs": [
    {
     "data": {
      "text/plain": [
       "dtype('float64')"
      ]
     },
     "execution_count": 21,
     "metadata": {},
     "output_type": "execute_result"
    }
   ],
   "source": [
    "b.dtype"
   ]
  },
  {
   "cell_type": "code",
   "execution_count": 22,
   "id": "94dd3b64-0b34-42a5-8b65-f727391b6a6e",
   "metadata": {},
   "outputs": [
    {
     "data": {
      "text/plain": [
       "2"
      ]
     },
     "execution_count": 22,
     "metadata": {},
     "output_type": "execute_result"
    }
   ],
   "source": [
    "b.ndim"
   ]
  },
  {
   "cell_type": "code",
   "execution_count": 33,
   "id": "a7cae771-5fc5-479c-98a6-883c9879286f",
   "metadata": {},
   "outputs": [
    {
     "name": "stdout",
     "output_type": "stream",
     "text": [
      "[[[ 1.  2.]\n",
      "  [ 2.  3.]]\n",
      "\n",
      " [[ 4.  5.]\n",
      "  [ 6.  7.]]\n",
      "\n",
      " [[ 7.  8.]\n",
      "  [ 9. 10.]]]\n"
     ]
    }
   ],
   "source": [
    "c=np.array([[[1,2],[2,3]],[[4,5],[6,7]],[[7,8],[9,10]]], dtype=\"float\")\n",
    "print(c)"
   ]
  },
  {
   "cell_type": "code",
   "execution_count": 34,
   "id": "a91d5019-4711-4bee-81b2-31ca576736e2",
   "metadata": {},
   "outputs": [
    {
     "data": {
      "text/plain": [
       "(3, 2, 2)"
      ]
     },
     "execution_count": 34,
     "metadata": {},
     "output_type": "execute_result"
    }
   ],
   "source": [
    "c.shape"
   ]
  },
  {
   "cell_type": "code",
   "execution_count": 35,
   "id": "121d7587-4ec4-427c-9c1a-321eda7077dc",
   "metadata": {},
   "outputs": [
    {
     "data": {
      "text/plain": [
       "12"
      ]
     },
     "execution_count": 35,
     "metadata": {},
     "output_type": "execute_result"
    }
   ],
   "source": [
    "c.size\n"
   ]
  },
  {
   "cell_type": "code",
   "execution_count": 36,
   "id": "e1c2e921-1ae2-4bc1-9645-5b807de50dce",
   "metadata": {},
   "outputs": [
    {
     "data": {
      "text/plain": [
       "8"
      ]
     },
     "execution_count": 36,
     "metadata": {},
     "output_type": "execute_result"
    }
   ],
   "source": [
    "c.itemsize"
   ]
  },
  {
   "cell_type": "code",
   "execution_count": 37,
   "id": "925240cc-d84b-44fd-b5e0-d9b29dcdc216",
   "metadata": {},
   "outputs": [
    {
     "data": {
      "text/plain": [
       "3"
      ]
     },
     "execution_count": 37,
     "metadata": {},
     "output_type": "execute_result"
    }
   ],
   "source": [
    "c.ndim"
   ]
  },
  {
   "cell_type": "code",
   "execution_count": 38,
   "id": "006729e9-a90a-44aa-b1c1-a49a855de128",
   "metadata": {},
   "outputs": [
    {
     "data": {
      "text/plain": [
       "dtype('float64')"
      ]
     },
     "execution_count": 38,
     "metadata": {},
     "output_type": "execute_result"
    }
   ],
   "source": [
    "c.dtype"
   ]
  },
  {
   "cell_type": "markdown",
   "id": "d10980b1-69c8-4986-944c-3dd1a6764c18",
   "metadata": {},
   "source": [
    "## 1D array accesing"
   ]
  },
  {
   "cell_type": "code",
   "execution_count": 42,
   "id": "606981be-7fbe-49aa-a37c-d6fd54ca0c44",
   "metadata": {},
   "outputs": [
    {
     "data": {
      "text/plain": [
       "array(['1', '2', '4', 'a'], dtype='<U21')"
      ]
     },
     "execution_count": 42,
     "metadata": {},
     "output_type": "execute_result"
    }
   ],
   "source": [
    "a=np.array([1,2,4,'a'])\n",
    "a"
   ]
  },
  {
   "cell_type": "code",
   "execution_count": 43,
   "id": "c6255c69-0905-4a11-8f8b-067580b2788b",
   "metadata": {},
   "outputs": [
    {
     "data": {
      "text/plain": [
       "array(['1', '2', '4', 'a'], dtype='<U21')"
      ]
     },
     "execution_count": 43,
     "metadata": {},
     "output_type": "execute_result"
    }
   ],
   "source": [
    "a[::]"
   ]
  },
  {
   "cell_type": "code",
   "execution_count": 44,
   "id": "24e3b5ad-fc5b-49b9-a541-6c386a4411ca",
   "metadata": {},
   "outputs": [
    {
     "data": {
      "text/plain": [
       "array(['a', '4', '2', '1'], dtype='<U21')"
      ]
     },
     "execution_count": 44,
     "metadata": {},
     "output_type": "execute_result"
    }
   ],
   "source": [
    "a[-1::-1]"
   ]
  },
  {
   "cell_type": "code",
   "execution_count": 45,
   "id": "39fb7d50-778f-4c4c-8cea-b3347f1bc31d",
   "metadata": {},
   "outputs": [
    {
     "data": {
      "text/plain": [
       "array(['2'], dtype='<U21')"
      ]
     },
     "execution_count": 45,
     "metadata": {},
     "output_type": "execute_result"
    }
   ],
   "source": [
    "a[1:2:]"
   ]
  },
  {
   "cell_type": "code",
   "execution_count": 47,
   "id": "efb85dfc-8485-4033-ab2c-e81c193441fe",
   "metadata": {},
   "outputs": [
    {
     "data": {
      "text/plain": [
       "array(['1', '4'], dtype='<U21')"
      ]
     },
     "execution_count": 47,
     "metadata": {},
     "output_type": "execute_result"
    }
   ],
   "source": [
    "a[::2]"
   ]
  },
  {
   "cell_type": "markdown",
   "id": "fb87fd79-977e-4b77-b5d5-1f05c3c40655",
   "metadata": {},
   "source": [
    "## 2D array accessing"
   ]
  },
  {
   "cell_type": "code",
   "execution_count": 48,
   "id": "c7a62149-dffc-49a3-b738-1aeee62c6754",
   "metadata": {},
   "outputs": [
    {
     "data": {
      "text/plain": [
       "array([[1., 2., 3.],\n",
       "       [4., 5., 6.]])"
      ]
     },
     "execution_count": 48,
     "metadata": {},
     "output_type": "execute_result"
    }
   ],
   "source": [
    "b"
   ]
  },
  {
   "cell_type": "code",
   "execution_count": 51,
   "id": "f84da9cb-343e-4802-8972-d169ae1d8bc0",
   "metadata": {},
   "outputs": [
    {
     "data": {
      "text/plain": [
       "array([4., 5., 6.])"
      ]
     },
     "execution_count": 51,
     "metadata": {},
     "output_type": "execute_result"
    }
   ],
   "source": [
    "#accesing specified row\n",
    "b[1,]"
   ]
  },
  {
   "cell_type": "code",
   "execution_count": 56,
   "id": "a8cf55e4-4027-4d4e-a3fe-8ffcd389b631",
   "metadata": {},
   "outputs": [
    {
     "data": {
      "text/plain": [
       "6.0"
      ]
     },
     "execution_count": 56,
     "metadata": {},
     "output_type": "execute_result"
    }
   ],
   "source": [
    "# accesing specified item\n",
    "b[1,2]"
   ]
  },
  {
   "cell_type": "code",
   "execution_count": 57,
   "id": "a00bb5e9-d7da-4737-8f06-73782faa9d7d",
   "metadata": {},
   "outputs": [
    {
     "data": {
      "text/plain": [
       "array([3., 6.])"
      ]
     },
     "execution_count": 57,
     "metadata": {},
     "output_type": "execute_result"
    }
   ],
   "source": [
    "#acceisng specified column\n",
    "b[:,2]"
   ]
  },
  {
   "cell_type": "code",
   "execution_count": 58,
   "id": "cc1a12a4-2d00-46da-af27-2bbbac09566b",
   "metadata": {},
   "outputs": [
    {
     "data": {
      "text/plain": [
       "array([[1., 2.],\n",
       "       [4., 5.]])"
      ]
     },
     "execution_count": 58,
     "metadata": {},
     "output_type": "execute_result"
    }
   ],
   "source": [
    "b[:,:2]"
   ]
  },
  {
   "cell_type": "code",
   "execution_count": 59,
   "id": "07624bea-9f3d-4a5d-a07d-d289d02e03a3",
   "metadata": {},
   "outputs": [
    {
     "data": {
      "text/plain": [
       "array([[3., 2., 1.],\n",
       "       [6., 5., 4.]])"
      ]
     },
     "execution_count": 59,
     "metadata": {},
     "output_type": "execute_result"
    }
   ],
   "source": [
    "b[:,-1::-1]"
   ]
  },
  {
   "cell_type": "code",
   "execution_count": 61,
   "id": "4f6d10dd-fcba-4e90-b1bd-8e7ce3174578",
   "metadata": {},
   "outputs": [
    {
     "data": {
      "text/plain": [
       "array([[6.]])"
      ]
     },
     "execution_count": 61,
     "metadata": {},
     "output_type": "execute_result"
    }
   ],
   "source": [
    "b[-1::,-1::]"
   ]
  },
  {
   "cell_type": "markdown",
   "id": "8ad43e1a-9fd8-4996-ac31-124b0364206e",
   "metadata": {},
   "source": [
    "## accesing 3D array"
   ]
  },
  {
   "cell_type": "code",
   "execution_count": 63,
   "id": "d46bd314-0928-41de-b1e3-7243830fa8fe",
   "metadata": {},
   "outputs": [
    {
     "data": {
      "text/plain": [
       "array([[[ 1.,  2.],\n",
       "        [ 2.,  3.]],\n",
       "\n",
       "       [[ 4.,  5.],\n",
       "        [ 6.,  7.]],\n",
       "\n",
       "       [[ 7.,  8.],\n",
       "        [ 9., 10.]]])"
      ]
     },
     "execution_count": 63,
     "metadata": {},
     "output_type": "execute_result"
    }
   ],
   "source": [
    "c"
   ]
  },
  {
   "cell_type": "code",
   "execution_count": 66,
   "id": "ee45b670-1aae-46af-8b0a-a4d8d0304440",
   "metadata": {},
   "outputs": [
    {
     "data": {
      "text/plain": [
       "7.0"
      ]
     },
     "execution_count": 66,
     "metadata": {},
     "output_type": "execute_result"
    }
   ],
   "source": [
    "c[1,1,1]"
   ]
  },
  {
   "cell_type": "code",
   "execution_count": 68,
   "id": "8a15ac79-e24c-49a2-9d12-ac39ce98a204",
   "metadata": {},
   "outputs": [
    {
     "data": {
      "text/plain": [
       "8.0"
      ]
     },
     "execution_count": 68,
     "metadata": {},
     "output_type": "execute_result"
    }
   ],
   "source": [
    "c[2,0,1]"
   ]
  },
  {
   "cell_type": "code",
   "execution_count": 71,
   "id": "6c88a282-4b2b-4f37-994c-09d10692d9da",
   "metadata": {},
   "outputs": [
    {
     "data": {
      "text/plain": [
       "array([[4., 5.],\n",
       "       [6., 7.]])"
      ]
     },
     "execution_count": 71,
     "metadata": {},
     "output_type": "execute_result"
    }
   ],
   "source": [
    "c[1,::,::]"
   ]
  },
  {
   "cell_type": "code",
   "execution_count": 72,
   "id": "ec72c29e-6394-4078-bd60-5d205b126f19",
   "metadata": {},
   "outputs": [
    {
     "data": {
      "text/plain": [
       "array([4., 5.])"
      ]
     },
     "execution_count": 72,
     "metadata": {},
     "output_type": "execute_result"
    }
   ],
   "source": [
    "c[1,0,::]"
   ]
  },
  {
   "cell_type": "code",
   "execution_count": 73,
   "id": "ae7cb29a-eeb8-4cc3-8bbf-706d63cf3075",
   "metadata": {},
   "outputs": [
    {
     "data": {
      "text/plain": [
       "array([[1., 2.],\n",
       "       [4., 5.],\n",
       "       [7., 8.]])"
      ]
     },
     "execution_count": 73,
     "metadata": {},
     "output_type": "execute_result"
    }
   ],
   "source": [
    "c[::,0,::]"
   ]
  },
  {
   "cell_type": "code",
   "execution_count": 74,
   "id": "9a0087a5-198f-4999-afe5-8bed8e91f8ca",
   "metadata": {},
   "outputs": [
    {
     "data": {
      "text/plain": [
       "array([2., 5., 8.])"
      ]
     },
     "execution_count": 74,
     "metadata": {},
     "output_type": "execute_result"
    }
   ],
   "source": [
    "c[::,0,1]"
   ]
  },
  {
   "cell_type": "markdown",
   "id": "f5e75a21-3dee-4b75-8448-098b1b91c170",
   "metadata": {},
   "source": [
    "\n",
    "# initialize different types of ayyas"
   ]
  },
  {
   "cell_type": "markdown",
   "id": "81f9f041-a75a-4699-9540-a5c4f1bc146e",
   "metadata": {},
   "source": [
    "## 1.ZEROS"
   ]
  },
  {
   "cell_type": "code",
   "execution_count": 81,
   "id": "e3a54290-69fe-4a73-b401-d2764281dfa6",
   "metadata": {},
   "outputs": [
    {
     "data": {
      "text/plain": [
       "array([0, 0, 0, 0, 0])"
      ]
     },
     "execution_count": 81,
     "metadata": {},
     "output_type": "execute_result"
    }
   ],
   "source": [
    "z=np.zeros(5,dtype=\"int\")\n",
    "z"
   ]
  },
  {
   "cell_type": "code",
   "execution_count": 83,
   "id": "d6f01b83-6851-4a3a-bd26-fd89f6b2a4ea",
   "metadata": {},
   "outputs": [
    {
     "data": {
      "text/plain": [
       "array([[0, 0],\n",
       "       [0, 0],\n",
       "       [0, 0],\n",
       "       [0, 0],\n",
       "       [0, 0]])"
      ]
     },
     "execution_count": 83,
     "metadata": {},
     "output_type": "execute_result"
    }
   ],
   "source": [
    "z1=np.zeros((5,2),dtype=\"int\")\n",
    "z1"
   ]
  },
  {
   "cell_type": "code",
   "execution_count": 84,
   "id": "2fcf61d7-2a16-4003-acdf-a49ef96156ea",
   "metadata": {},
   "outputs": [
    {
     "data": {
      "text/plain": [
       "array([[[0., 0., 0.],\n",
       "        [0., 0., 0.]],\n",
       "\n",
       "       [[0., 0., 0.],\n",
       "        [0., 0., 0.]],\n",
       "\n",
       "       [[0., 0., 0.],\n",
       "        [0., 0., 0.]],\n",
       "\n",
       "       [[0., 0., 0.],\n",
       "        [0., 0., 0.]],\n",
       "\n",
       "       [[0., 0., 0.],\n",
       "        [0., 0., 0.]]])"
      ]
     },
     "execution_count": 84,
     "metadata": {},
     "output_type": "execute_result"
    }
   ],
   "source": [
    "z2=np.zeros((5,2,3))\n",
    "z2"
   ]
  },
  {
   "cell_type": "code",
   "execution_count": 86,
   "id": "fb182c9e-2a4c-44e4-a5ed-bedb1fc02b93",
   "metadata": {},
   "outputs": [
    {
     "data": {
      "text/plain": [
       "array([[[[0., 0., 0.],\n",
       "         [0., 0., 0.],\n",
       "         [0., 0., 0.]],\n",
       "\n",
       "        [[0., 0., 0.],\n",
       "         [0., 0., 0.],\n",
       "         [0., 0., 0.]]],\n",
       "\n",
       "\n",
       "       [[[0., 0., 0.],\n",
       "         [0., 0., 0.],\n",
       "         [0., 0., 0.]],\n",
       "\n",
       "        [[0., 0., 0.],\n",
       "         [0., 0., 0.],\n",
       "         [0., 0., 0.]]],\n",
       "\n",
       "\n",
       "       [[[0., 0., 0.],\n",
       "         [0., 0., 0.],\n",
       "         [0., 0., 0.]],\n",
       "\n",
       "        [[0., 0., 0.],\n",
       "         [0., 0., 0.],\n",
       "         [0., 0., 0.]]],\n",
       "\n",
       "\n",
       "       [[[0., 0., 0.],\n",
       "         [0., 0., 0.],\n",
       "         [0., 0., 0.]],\n",
       "\n",
       "        [[0., 0., 0.],\n",
       "         [0., 0., 0.],\n",
       "         [0., 0., 0.]]],\n",
       "\n",
       "\n",
       "       [[[0., 0., 0.],\n",
       "         [0., 0., 0.],\n",
       "         [0., 0., 0.]],\n",
       "\n",
       "        [[0., 0., 0.],\n",
       "         [0., 0., 0.],\n",
       "         [0., 0., 0.]]]])"
      ]
     },
     "execution_count": 86,
     "metadata": {},
     "output_type": "execute_result"
    }
   ],
   "source": [
    "z3=np.zeros((5,2,3,3))\n",
    "z3"
   ]
  },
  {
   "cell_type": "markdown",
   "id": "cdc562c0-3788-4937-84e9-f4be60721d84",
   "metadata": {},
   "source": [
    "## 2.ONES"
   ]
  },
  {
   "cell_type": "code",
   "execution_count": 91,
   "id": "f355e810-6350-4a41-b650-e0aeb8593c2d",
   "metadata": {},
   "outputs": [
    {
     "data": {
      "text/plain": [
       "array([1., 1., 1., 1., 1.])"
      ]
     },
     "execution_count": 91,
     "metadata": {},
     "output_type": "execute_result"
    }
   ],
   "source": [
    "o=np.ones(5)\n",
    "o"
   ]
  },
  {
   "cell_type": "code",
   "execution_count": 92,
   "id": "5d75ee57-4d1b-48bb-a81a-54e33d501203",
   "metadata": {},
   "outputs": [
    {
     "data": {
      "text/plain": [
       "array([[1., 1., 1.],\n",
       "       [1., 1., 1.],\n",
       "       [1., 1., 1.],\n",
       "       [1., 1., 1.],\n",
       "       [1., 1., 1.]])"
      ]
     },
     "execution_count": 92,
     "metadata": {},
     "output_type": "execute_result"
    }
   ],
   "source": [
    "o1=np.ones((5,3))\n",
    "o1"
   ]
  },
  {
   "cell_type": "code",
   "execution_count": 94,
   "id": "433fab9e-fce0-47ca-9a20-837c1251b7eb",
   "metadata": {},
   "outputs": [
    {
     "data": {
      "text/plain": [
       "array([[[1, 1],\n",
       "        [1, 1],\n",
       "        [1, 1]],\n",
       "\n",
       "       [[1, 1],\n",
       "        [1, 1],\n",
       "        [1, 1]],\n",
       "\n",
       "       [[1, 1],\n",
       "        [1, 1],\n",
       "        [1, 1]],\n",
       "\n",
       "       [[1, 1],\n",
       "        [1, 1],\n",
       "        [1, 1]],\n",
       "\n",
       "       [[1, 1],\n",
       "        [1, 1],\n",
       "        [1, 1]]])"
      ]
     },
     "execution_count": 94,
     "metadata": {},
     "output_type": "execute_result"
    }
   ],
   "source": [
    "o2=np.ones((5,3,2),dtype=\"int\")\n",
    "o2"
   ]
  },
  {
   "cell_type": "markdown",
   "id": "25f6cdc9-da4e-4bae-8e7a-4bba264ef7bb",
   "metadata": {},
   "source": [
    "## any other NUmber np.full((shape),value)"
   ]
  },
  {
   "cell_type": "code",
   "execution_count": 97,
   "id": "6a1c77b3-2f10-4bd6-8d62-3fddade4076a",
   "metadata": {},
   "outputs": [
    {
     "data": {
      "text/plain": [
       "array([25, 25, 25, 25, 25])"
      ]
     },
     "execution_count": 97,
     "metadata": {},
     "output_type": "execute_result"
    }
   ],
   "source": [
    "n=np.full(5,25)\n",
    "n"
   ]
  },
  {
   "cell_type": "code",
   "execution_count": 100,
   "id": "0bd4f8ea-b081-47b4-97c8-31f0ff96302e",
   "metadata": {},
   "outputs": [
    {
     "data": {
      "text/plain": [
       "array([[99., 99.],\n",
       "       [99., 99.],\n",
       "       [99., 99.]])"
      ]
     },
     "execution_count": 100,
     "metadata": {},
     "output_type": "execute_result"
    }
   ],
   "source": [
    "n1=np.full((3,2),99,dtype=\"float\")\n",
    "n1"
   ]
  },
  {
   "cell_type": "code",
   "execution_count": 102,
   "id": "18787b57-1154-41c3-b483-02450c68d98b",
   "metadata": {},
   "outputs": [
    {
     "data": {
      "text/plain": [
       "array([[[8.9, 8.9],\n",
       "        [8.9, 8.9],\n",
       "        [8.9, 8.9]],\n",
       "\n",
       "       [[8.9, 8.9],\n",
       "        [8.9, 8.9],\n",
       "        [8.9, 8.9]],\n",
       "\n",
       "       [[8.9, 8.9],\n",
       "        [8.9, 8.9],\n",
       "        [8.9, 8.9]],\n",
       "\n",
       "       [[8.9, 8.9],\n",
       "        [8.9, 8.9],\n",
       "        [8.9, 8.9]]])"
      ]
     },
     "execution_count": 102,
     "metadata": {},
     "output_type": "execute_result"
    }
   ],
   "source": [
    "n2=np.full((4,3,2),8.9)\n",
    "n2"
   ]
  },
  {
   "cell_type": "code",
   "execution_count": 104,
   "id": "653cbecc-f78d-47c2-b43f-0f1a68ddca94",
   "metadata": {},
   "outputs": [
    {
     "data": {
      "text/plain": [
       "array([[4, 4, 4],\n",
       "       [4, 4, 4]])"
      ]
     },
     "execution_count": 104,
     "metadata": {},
     "output_type": "execute_result"
    }
   ],
   "source": [
    "n3=np.full(b.shape,4)\n",
    "n3"
   ]
  },
  {
   "cell_type": "code",
   "execution_count": 106,
   "id": "509b242b-0f80-4df6-89fa-766620bf6ee5",
   "metadata": {},
   "outputs": [
    {
     "data": {
      "text/plain": [
       "array([[4., 4., 4.],\n",
       "       [4., 4., 4.]])"
      ]
     },
     "execution_count": 106,
     "metadata": {},
     "output_type": "execute_result"
    }
   ],
   "source": [
    "n4=np.full_like(b,4)\n",
    "n4"
   ]
  },
  {
   "cell_type": "code",
   "execution_count": 108,
   "id": "c52dc2c1-d795-470c-be44-cdaba43eadf4",
   "metadata": {},
   "outputs": [
    {
     "data": {
      "text/plain": [
       "array([[[5, 5],\n",
       "        [5, 5],\n",
       "        [5, 5]],\n",
       "\n",
       "       [[5, 5],\n",
       "        [5, 5],\n",
       "        [5, 5]],\n",
       "\n",
       "       [[5, 5],\n",
       "        [5, 5],\n",
       "        [5, 5]],\n",
       "\n",
       "       [[5, 5],\n",
       "        [5, 5],\n",
       "        [5, 5]],\n",
       "\n",
       "       [[5, 5],\n",
       "        [5, 5],\n",
       "        [5, 5]]])"
      ]
     },
     "execution_count": 108,
     "metadata": {},
     "output_type": "execute_result"
    }
   ],
   "source": [
    "n5=np.full_like(o2,5)\n",
    "n5"
   ]
  },
  {
   "cell_type": "markdown",
   "id": "1cfafba5-76bc-4e0c-8aa6-bb7ae3920c86",
   "metadata": {},
   "source": [
    "## Random"
   ]
  },
  {
   "cell_type": "code",
   "execution_count": 110,
   "id": "17ee084c-c9a8-4a54-86ca-bb1581d6a8ab",
   "metadata": {},
   "outputs": [
    {
     "data": {
      "text/plain": [
       "array([[0.38710325, 0.13425079],\n",
       "       [0.11860756, 0.99539601],\n",
       "       [0.09933516, 0.54403024],\n",
       "       [0.78718425, 0.78057727]])"
      ]
     },
     "execution_count": 110,
     "metadata": {},
     "output_type": "execute_result"
    }
   ],
   "source": [
    "r=np.random.rand(4,2)\n",
    "r"
   ]
  },
  {
   "cell_type": "code",
   "execution_count": 113,
   "id": "76403a34-508c-461a-8040-d8837443aa09",
   "metadata": {},
   "outputs": [
    {
     "data": {
      "text/plain": [
       "array([[4, 2, 5],\n",
       "       [1, 1, 3]])"
      ]
     },
     "execution_count": 113,
     "metadata": {},
     "output_type": "execute_result"
    }
   ],
   "source": [
    "#np.random.randint(strt,stop-is not included,size=(shape))\n",
    "r1=np.random.randint(1,7,size=(2,3))\n",
    "r1"
   ]
  },
  {
   "cell_type": "code",
   "execution_count": 119,
   "id": "7e385c7a-6869-4fbc-beb5-dde0b4ad07a2",
   "metadata": {},
   "outputs": [
    {
     "data": {
      "text/plain": [
       "array([[ 7,  8,  6],\n",
       "       [-2,  1,  3],\n",
       "       [ 4,  7, -1],\n",
       "       [ 7,  2,  7],\n",
       "       [ 3, -4,  4]])"
      ]
     },
     "execution_count": 119,
     "metadata": {},
     "output_type": "execute_result"
    }
   ],
   "source": [
    "r2=np.random.randint(-4,9,size=(5,3))\n",
    "r2"
   ]
  },
  {
   "cell_type": "markdown",
   "id": "04854555-3a7d-4920-bcc3-2e1f5f5d6f04",
   "metadata": {},
   "source": [
    "## IDENTITY"
   ]
  },
  {
   "cell_type": "code",
   "execution_count": 122,
   "id": "181a5185-8b46-48e8-998b-b2f02e5d44f8",
   "metadata": {},
   "outputs": [
    {
     "data": {
      "text/plain": [
       "array([[1., 0., 0.],\n",
       "       [0., 1., 0.],\n",
       "       [0., 0., 1.]])"
      ]
     },
     "execution_count": 122,
     "metadata": {},
     "output_type": "execute_result"
    }
   ],
   "source": [
    "i=np.identity(3)\n",
    "i"
   ]
  },
  {
   "cell_type": "code",
   "execution_count": 126,
   "id": "cb59e516-3bdb-4485-853c-1fe1ec745957",
   "metadata": {},
   "outputs": [
    {
     "data": {
      "text/plain": [
       "array([[1, 0, 0, 0, 0],\n",
       "       [0, 1, 0, 0, 0],\n",
       "       [0, 0, 1, 0, 0],\n",
       "       [0, 0, 0, 1, 0],\n",
       "       [0, 0, 0, 0, 1]])"
      ]
     },
     "execution_count": 126,
     "metadata": {},
     "output_type": "execute_result"
    }
   ],
   "source": [
    "i1=np.identity(5,dtype=\"int\")\n",
    "i1"
   ]
  },
  {
   "cell_type": "markdown",
   "id": "3b52f6fa-b447-4dce-a596-6401a2b6db24",
   "metadata": {},
   "source": [
    "#output\n",
    "1 1 1 1 1 \n",
    "1 0 0 0 1\n",
    "1 0 9 0 1\n",
    "1 0 0 0 1 \n",
    "1 1 1 1 1'''"
   ]
  },
  {
   "cell_type": "code",
   "execution_count": 131,
   "id": "e20a76a3-8115-4484-961c-45dd52058cbf",
   "metadata": {},
   "outputs": [
    {
     "name": "stdout",
     "output_type": "stream",
     "text": [
      "[[1 1 1 1 1]\n",
      " [1 1 1 1 1]\n",
      " [1 1 1 1 1]\n",
      " [1 1 1 1 1]\n",
      " [1 1 1 1 1]]\n",
      "[[0 0 0]\n",
      " [0 9 0]\n",
      " [0 0 0]]\n"
     ]
    }
   ],
   "source": [
    "output=np.ones((5,5),dtype=\"int\")\n",
    "print(output)\n",
    "inside=np.zeros((3,3),dtype=\"int\")\n",
    "inside[1,1]=9\n",
    "print(inside)"
   ]
  },
  {
   "cell_type": "code",
   "execution_count": 133,
   "id": "82c9f2c6-4771-4847-996c-f2578a4ac2bb",
   "metadata": {},
   "outputs": [
    {
     "data": {
      "text/plain": [
       "array([[1, 1, 1, 1, 1],\n",
       "       [1, 0, 0, 0, 1],\n",
       "       [1, 0, 9, 0, 1],\n",
       "       [1, 0, 0, 0, 1],\n",
       "       [1, 1, 1, 1, 1]])"
      ]
     },
     "execution_count": 133,
     "metadata": {},
     "output_type": "execute_result"
    }
   ],
   "source": [
    "output[1:4:,1:4:]=inside\n",
    "output"
   ]
  },
  {
   "cell_type": "code",
   "execution_count": 134,
   "id": "c86b7bb9-71e8-4a0a-b833-027704b10c79",
   "metadata": {},
   "outputs": [
    {
     "name": "stdout",
     "output_type": "stream",
     "text": [
      "[100   2   3]\n",
      "[100   2   3]\n"
     ]
    }
   ],
   "source": [
    "a=np.array([1,2,3])\n",
    "b=a\n",
    "b[0]=100\n",
    "print(a)\n",
    "print(b)"
   ]
  },
  {
   "cell_type": "code",
   "execution_count": 135,
   "id": "2efa12b6-7909-413f-aea6-e75e19cf2a37",
   "metadata": {},
   "outputs": [
    {
     "name": "stdout",
     "output_type": "stream",
     "text": [
      "[1 2 3]\n",
      "[100   2   3]\n"
     ]
    }
   ],
   "source": [
    "a=np.array([1,2,3])\n",
    "b=np.copy(a)\n",
    "b[0]=100\n",
    "print(a)\n",
    "print(b)"
   ]
  },
  {
   "cell_type": "code",
   "execution_count": 138,
   "id": "5e3ed37a-4b41-4d5f-bf07-5b80cf6cf865",
   "metadata": {},
   "outputs": [
    {
     "data": {
      "text/plain": [
       "array([[1, 2, 3],\n",
       "       [4, 5, 6]])"
      ]
     },
     "execution_count": 138,
     "metadata": {},
     "output_type": "execute_result"
    }
   ],
   "source": [
    "a=np.array([[1,2,3],[4,5,6]])\n",
    "a\n"
   ]
  },
  {
   "cell_type": "code",
   "execution_count": 139,
   "id": "8a7fa718-8503-4249-80b8-01dda9765d53",
   "metadata": {},
   "outputs": [
    {
     "data": {
      "text/plain": [
       "array([[1, 4],\n",
       "       [2, 5],\n",
       "       [3, 6]])"
      ]
     },
     "execution_count": 139,
     "metadata": {},
     "output_type": "execute_result"
    }
   ],
   "source": [
    "a.transpose()"
   ]
  },
  {
   "cell_type": "code",
   "execution_count": 140,
   "id": "6b9e3944-058a-4a6a-8ce6-ef89091eae80",
   "metadata": {},
   "outputs": [
    {
     "data": {
      "text/plain": [
       "array([[1, 2, 3],\n",
       "       [4, 5, 6]])"
      ]
     },
     "execution_count": 140,
     "metadata": {},
     "output_type": "execute_result"
    }
   ],
   "source": [
    "a"
   ]
  },
  {
   "cell_type": "code",
   "execution_count": 143,
   "id": "34728b10-fc78-4ca7-963b-30e8ea8806c5",
   "metadata": {},
   "outputs": [
    {
     "data": {
      "text/plain": [
       "array([[1],\n",
       "       [2],\n",
       "       [3],\n",
       "       [4],\n",
       "       [5],\n",
       "       [6]])"
      ]
     },
     "execution_count": 143,
     "metadata": {},
     "output_type": "execute_result"
    }
   ],
   "source": [
    "a.reshape((6,1))"
   ]
  },
  {
   "cell_type": "code",
   "execution_count": 144,
   "id": "09e30326-52d9-48ab-a54e-0e583bd4576c",
   "metadata": {},
   "outputs": [
    {
     "data": {
      "text/plain": [
       "array([[1, 2],\n",
       "       [3, 4],\n",
       "       [5, 6]])"
      ]
     },
     "execution_count": 144,
     "metadata": {},
     "output_type": "execute_result"
    }
   ],
   "source": [
    "a.reshape((3,2))"
   ]
  },
  {
   "cell_type": "code",
   "execution_count": 151,
   "id": "d81d41d7-750b-45f4-a826-1902c0f66989",
   "metadata": {},
   "outputs": [
    {
     "data": {
      "text/plain": [
       "array([1, 3, 5, 7, 9])"
      ]
     },
     "execution_count": 151,
     "metadata": {},
     "output_type": "execute_result"
    }
   ],
   "source": [
    "a=np.arange(1,10,2)\n",
    "a"
   ]
  },
  {
   "cell_type": "code",
   "execution_count": 154,
   "id": "d310ba49-6522-4043-80de-2a71aa622983",
   "metadata": {},
   "outputs": [
    {
     "data": {
      "text/plain": [
       "array([  0,  20,  40,  60,  80, 100])"
      ]
     },
     "execution_count": 154,
     "metadata": {},
     "output_type": "execute_result"
    }
   ],
   "source": [
    "a=np.arange(0,101,20)\n",
    "a"
   ]
  },
  {
   "cell_type": "markdown",
   "id": "68301025-a771-4703-8923-e36ed955fc70",
   "metadata": {},
   "source": [
    "# fininding det, inverse, trace, svd,  eigen values,  eigen vectors, matrix Norm etc "
   ]
  },
  {
   "cell_type": "markdown",
   "id": "5f19c7c5-f68a-4f18-a132-05a35ee780d4",
   "metadata": {},
   "source": [
    "## we use np.linalg."
   ]
  },
  {
   "cell_type": "code",
   "execution_count": 161,
   "id": "7e5625fe-24df-4c0d-84b5-8e5d2b515cc8",
   "metadata": {},
   "outputs": [
    {
     "data": {
      "text/plain": [
       "array([[ 1,  2,  3],\n",
       "       [ 4,  5,  6],\n",
       "       [ 7, 11,  9]])"
      ]
     },
     "execution_count": 161,
     "metadata": {},
     "output_type": "execute_result"
    }
   ],
   "source": [
    "a=np.array([[1,2,3],[4,5,6],[7,11,9]])\n",
    "a"
   ]
  },
  {
   "cell_type": "code",
   "execution_count": 162,
   "id": "99e944bf-0a58-4faa-b23a-166ddc03d071",
   "metadata": {},
   "outputs": [
    {
     "data": {
      "text/plain": [
       "17.999999999999996"
      ]
     },
     "execution_count": 162,
     "metadata": {},
     "output_type": "execute_result"
    }
   ],
   "source": [
    "np.linalg.det(a)"
   ]
  },
  {
   "cell_type": "code",
   "execution_count": 163,
   "id": "b69e8203-19aa-4a5f-ac20-b4393053a224",
   "metadata": {},
   "outputs": [
    {
     "data": {
      "text/plain": [
       "array([[-1.16666667,  0.83333333, -0.16666667],\n",
       "       [ 0.33333333, -0.66666667,  0.33333333],\n",
       "       [ 0.5       ,  0.16666667, -0.16666667]])"
      ]
     },
     "execution_count": 163,
     "metadata": {},
     "output_type": "execute_result"
    }
   ],
   "source": [
    "np.linalg.inv(a)"
   ]
  },
  {
   "cell_type": "code",
   "execution_count": 167,
   "id": "50fc2436-f5cf-4a8f-9133-a094c4836e2d",
   "metadata": {},
   "outputs": [
    {
     "data": {
      "text/plain": [
       "(array([[-0.19458739, -0.60755643, -0.77007203],\n",
       "        [-0.47295961, -0.62967205,  0.61629726],\n",
       "        [-0.8593282 ,  0.48413664, -0.16482342]]),\n",
       " array([18.41421137,  1.5939703 ,  0.61325226]),\n",
       " array([[-0.43997123, -0.66288926, -0.60580784],\n",
       "        [ 0.16481603,  0.60354321, -0.78010978],\n",
       "        [ 0.88275761, -0.44307271, -0.15628687]]))"
      ]
     },
     "execution_count": 167,
     "metadata": {},
     "output_type": "execute_result"
    }
   ],
   "source": [
    "np.linalg.svd(a)"
   ]
  },
  {
   "cell_type": "code",
   "execution_count": 171,
   "id": "494040c6-6986-4f95-ab9f-46c422450e80",
   "metadata": {},
   "outputs": [],
   "source": [
    "(vales,vectors)=np.linalg.eig(a)"
   ]
  },
  {
   "cell_type": "code",
   "execution_count": 173,
   "id": "dd548486-5b1b-4dfa-9b49-bc689b57f9e3",
   "metadata": {},
   "outputs": [
    {
     "name": "stdout",
     "output_type": "stream",
     "text": [
      "[17.15914093 -0.73829517 -1.42084576]\n",
      "[[-0.21734951 -0.90018001 -0.67422093]\n",
      " [-0.48850125  0.27104885 -0.23441644]\n",
      " [-0.84505959  0.34089362  0.70033925]]\n"
     ]
    }
   ],
   "source": [
    "print(vales)\n",
    "print(vectors)"
   ]
  },
  {
   "cell_type": "code",
   "execution_count": 175,
   "id": "6508b3de-bfc7-4171-88b8-fe67a7e888b1",
   "metadata": {},
   "outputs": [
    {
     "data": {
      "text/plain": [
       "18.49324200890693"
      ]
     },
     "execution_count": 175,
     "metadata": {},
     "output_type": "execute_result"
    }
   ],
   "source": [
    "np.linalg.norm(a)"
   ]
  },
  {
   "cell_type": "code",
   "execution_count": 166,
   "id": "30f2320c-ee31-443d-b64d-10e12b2b77af",
   "metadata": {},
   "outputs": [
    {
     "data": {
      "text/plain": [
       "15"
      ]
     },
     "execution_count": 166,
     "metadata": {},
     "output_type": "execute_result"
    }
   ],
   "source": [
    "np.trace(a)"
   ]
  },
  {
   "cell_type": "code",
   "execution_count": null,
   "id": "d2e7991e-a959-4c99-afed-387a56c9965d",
   "metadata": {},
   "outputs": [],
   "source": []
  },
  {
   "cell_type": "code",
   "execution_count": null,
   "id": "577d42d7-aa87-437f-b86d-f187ac974e4e",
   "metadata": {},
   "outputs": [],
   "source": []
  }
 ],
 "metadata": {
  "kernelspec": {
   "display_name": "Python 3 (ipykernel)",
   "language": "python",
   "name": "python3"
  },
  "language_info": {
   "codemirror_mode": {
    "name": "ipython",
    "version": 3
   },
   "file_extension": ".py",
   "mimetype": "text/x-python",
   "name": "python",
   "nbconvert_exporter": "python",
   "pygments_lexer": "ipython3",
   "version": "3.8.10"
  }
 },
 "nbformat": 4,
 "nbformat_minor": 5
}
