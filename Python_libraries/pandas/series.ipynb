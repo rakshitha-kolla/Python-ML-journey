{
 "cells": [
  {
   "cell_type": "markdown",
   "id": "58c2aa95-d811-422e-81c3-cf91550d6c7c",
   "metadata": {},
   "source": [
    "# SERIES \n",
    "## is a pandas datastructure in series data is 1D array"
   ]
  },
  {
   "cell_type": "code",
   "execution_count": 2,
   "id": "68506307-306e-4286-b55c-1411fecafa9f",
   "metadata": {},
   "outputs": [],
   "source": [
    "import numpy as np\n",
    "import pandas as pd\n"
   ]
  },
  {
   "cell_type": "markdown",
   "id": "024746f9-fe92-4dd9-af1d-cb387f913218",
   "metadata": {},
   "source": [
    "## creating series\n",
    "## 1.using list\n",
    "## 2.using dictionaries\n",
    "## 3.using ndarray"
   ]
  },
  {
   "cell_type": "code",
   "execution_count": 3,
   "id": "569000bb-78f1-4d36-bedd-cae18c923ae5",
   "metadata": {},
   "outputs": [
    {
     "name": "stdout",
     "output_type": "stream",
     "text": [
      "0    1.0\n",
      "1    2.0\n",
      "2    3.0\n",
      "dtype: float64\n",
      "(3,)\n",
      "3\n",
      "float64\n",
      "dim=  1\n",
      "count=  3\n"
     ]
    }
   ],
   "source": [
    "# 1.using list\n",
    "s=pd.Series([1,2.0,3])\n",
    "print(s)\n",
    "print(s.shape)\n",
    "print(s.size)\n",
    "print(s.dtype)\n",
    "print(\"dim= \",s.ndim)\n",
    "print(\"count= \",s.count())"
   ]
  },
  {
   "cell_type": "code",
   "execution_count": 4,
   "id": "f9b3fd43-b053-4ab3-a042-94b3bca394d5",
   "metadata": {},
   "outputs": [
    {
     "name": "stdout",
     "output_type": "stream",
     "text": [
      "False\n",
      "[1. 2. 3.]\n"
     ]
    }
   ],
   "source": [
    "print(s.empty)\n",
    "print(s.values)"
   ]
  },
  {
   "cell_type": "code",
   "execution_count": 5,
   "id": "1d8331b6-6c76-4415-9bb5-1856a3de2e39",
   "metadata": {},
   "outputs": [],
   "source": [
    "s.name=\"student\""
   ]
  },
  {
   "cell_type": "code",
   "execution_count": 6,
   "id": "b8e3a461-9c74-462c-8293-320b0f6096e4",
   "metadata": {},
   "outputs": [
    {
     "data": {
      "text/plain": [
       "0    1.0\n",
       "1    2.0\n",
       "2    3.0\n",
       "Name: student, dtype: float64"
      ]
     },
     "execution_count": 6,
     "metadata": {},
     "output_type": "execute_result"
    }
   ],
   "source": [
    "s"
   ]
  },
  {
   "cell_type": "code",
   "execution_count": 7,
   "id": "816665c8-62af-44ee-8c6d-c5cccf8eccf6",
   "metadata": {},
   "outputs": [],
   "source": [
    "s.index=[1,2,3]"
   ]
  },
  {
   "cell_type": "code",
   "execution_count": 8,
   "id": "b09fc7b7-1cf9-4a68-b532-30548f3ce120",
   "metadata": {},
   "outputs": [
    {
     "data": {
      "text/plain": [
       "1    1.0\n",
       "2    2.0\n",
       "3    3.0\n",
       "Name: student, dtype: float64"
      ]
     },
     "execution_count": 8,
     "metadata": {},
     "output_type": "execute_result"
    }
   ],
   "source": [
    "s"
   ]
  },
  {
   "cell_type": "code",
   "execution_count": 9,
   "id": "bee985be-23c3-4619-a7b5-48a7a9d0a5a2",
   "metadata": {},
   "outputs": [
    {
     "data": {
      "text/plain": [
       "a    1\n",
       "b    2\n",
       "c    3\n",
       "dtype: int64"
      ]
     },
     "execution_count": 9,
     "metadata": {},
     "output_type": "execute_result"
    }
   ],
   "source": [
    "# 2.using dict\n",
    "dict={\"a\":1,\"b\":2,\"c\":3}\n",
    "s1=pd.Series(dict)\n",
    "s1"
   ]
  },
  {
   "cell_type": "code",
   "execution_count": 10,
   "id": "1e904214-f8cc-4f90-91b2-7f6bc50e5f87",
   "metadata": {},
   "outputs": [
    {
     "data": {
      "text/plain": [
       "0    0\n",
       "1    9\n",
       "2    8\n",
       "dtype: int64"
      ]
     },
     "execution_count": 10,
     "metadata": {},
     "output_type": "execute_result"
    }
   ],
   "source": [
    "# 3.using ndarray\n",
    "a=np.array([0,9,8])\n",
    "s2=pd.Series(a)\n",
    "s2"
   ]
  },
  {
   "cell_type": "code",
   "execution_count": 11,
   "id": "44960ecf-f7d4-440f-acd8-40ca7c5daa14",
   "metadata": {},
   "outputs": [
    {
     "data": {
      "text/plain": [
       "a    0\n",
       "b    9\n",
       "c    8\n",
       "dtype: int64"
      ]
     },
     "execution_count": 11,
     "metadata": {},
     "output_type": "execute_result"
    }
   ],
   "source": [
    "s2.index=[\"a\",\"b\",\"c\"]\n",
    "s2"
   ]
  },
  {
   "cell_type": "markdown",
   "id": "8ebc97ea-334a-41c7-8644-3ff6582f3216",
   "metadata": {},
   "source": [
    "## Accessing Series\n",
    "## 1.using labeled index\n",
    "## 2.using positional values"
   ]
  },
  {
   "cell_type": "code",
   "execution_count": 12,
   "id": "deab7fbe-c046-4922-b81e-106911dc18e4",
   "metadata": {},
   "outputs": [
    {
     "data": {
      "text/plain": [
       "a    0\n",
       "b    9\n",
       "c    8\n",
       "dtype: int64"
      ]
     },
     "execution_count": 12,
     "metadata": {},
     "output_type": "execute_result"
    }
   ],
   "source": [
    "# labled Index\n",
    "s2"
   ]
  },
  {
   "cell_type": "code",
   "execution_count": 13,
   "id": "49c2c452-8e2a-4981-b476-439ae19b321b",
   "metadata": {},
   "outputs": [
    {
     "data": {
      "text/plain": [
       "a    0\n",
       "b    9\n",
       "dtype: int64"
      ]
     },
     "execution_count": 13,
     "metadata": {},
     "output_type": "execute_result"
    }
   ],
   "source": [
    "s2[\"a\":\"b\"]"
   ]
  },
  {
   "cell_type": "code",
   "execution_count": 14,
   "id": "53754afc-91d6-4b36-aa23-363a0dd0ae2d",
   "metadata": {},
   "outputs": [
    {
     "data": {
      "text/plain": [
       "8"
      ]
     },
     "execution_count": 14,
     "metadata": {},
     "output_type": "execute_result"
    }
   ],
   "source": [
    "s2[\"c\"]"
   ]
  },
  {
   "cell_type": "code",
   "execution_count": 15,
   "id": "3f32b34e-6d34-475b-a788-91eb4a1b3356",
   "metadata": {},
   "outputs": [
    {
     "data": {
      "text/plain": [
       "Series([], dtype: int64)"
      ]
     },
     "execution_count": 15,
     "metadata": {},
     "output_type": "execute_result"
    }
   ],
   "source": [
    "s2[\"b\":\"a\"]"
   ]
  },
  {
   "cell_type": "code",
   "execution_count": 16,
   "id": "7dfc86ea-457e-407c-8333-f9e0412a4851",
   "metadata": {},
   "outputs": [
    {
     "data": {
      "text/plain": [
       "a    0\n",
       "b    9\n",
       "dtype: int64"
      ]
     },
     "execution_count": 16,
     "metadata": {},
     "output_type": "execute_result"
    }
   ],
   "source": [
    "# positional values\n",
    "s2[0:2]"
   ]
  },
  {
   "cell_type": "code",
   "execution_count": 17,
   "id": "98bcdfc3-cea4-4e79-946d-647570dbd6d4",
   "metadata": {},
   "outputs": [
    {
     "data": {
      "text/plain": [
       "c    8\n",
       "b    9\n",
       "a    0\n",
       "dtype: int64"
      ]
     },
     "execution_count": 17,
     "metadata": {},
     "output_type": "execute_result"
    }
   ],
   "source": [
    "s2[-1::-1]"
   ]
  },
  {
   "cell_type": "code",
   "execution_count": 18,
   "id": "60f98653-2db7-43a9-b99a-bc8d1df9217e",
   "metadata": {},
   "outputs": [
    {
     "data": {
      "text/plain": [
       "c    8\n",
       "b    9\n",
       "dtype: int64"
      ]
     },
     "execution_count": 18,
     "metadata": {},
     "output_type": "execute_result"
    }
   ],
   "source": [
    "s2[-1:-3:-1]"
   ]
  },
  {
   "cell_type": "code",
   "execution_count": 19,
   "id": "71edf8df-d0fa-491f-a965-46a341c4e45d",
   "metadata": {},
   "outputs": [
    {
     "data": {
      "text/plain": [
       "a    0\n",
       "b    9\n",
       "dtype: int64"
      ]
     },
     "execution_count": 19,
     "metadata": {},
     "output_type": "execute_result"
    }
   ],
   "source": [
    "s2.head(2)"
   ]
  },
  {
   "cell_type": "code",
   "execution_count": 20,
   "id": "dd0148b6-bf09-4b6d-b707-074d6d51764c",
   "metadata": {},
   "outputs": [
    {
     "data": {
      "text/plain": [
       "b    9\n",
       "c    8\n",
       "dtype: int64"
      ]
     },
     "execution_count": 20,
     "metadata": {},
     "output_type": "execute_result"
    }
   ],
   "source": [
    "s2.tail(2)"
   ]
  },
  {
   "cell_type": "code",
   "execution_count": 21,
   "id": "40e373df-368f-4b0c-8ca1-d325d823a24a",
   "metadata": {},
   "outputs": [
    {
     "data": {
      "text/plain": [
       "3"
      ]
     },
     "execution_count": 21,
     "metadata": {},
     "output_type": "execute_result"
    }
   ],
   "source": [
    "s2.count()"
   ]
  },
  {
   "cell_type": "markdown",
   "id": "11cba6f0-4eb2-4cb2-afda-b2099c7306dc",
   "metadata": {},
   "source": [
    "## MATHEMATICAL OPERATIONS"
   ]
  },
  {
   "cell_type": "code",
   "execution_count": 22,
   "id": "1b262152-1b82-42df-b95e-a22246ebe15f",
   "metadata": {},
   "outputs": [
    {
     "name": "stdout",
     "output_type": "stream",
     "text": [
      "a    1\n",
      "b    2\n",
      "c    3\n",
      "d    4\n",
      "f    5\n",
      "dtype: int64 \n",
      " a    10\n",
      "b     9\n",
      "d     8\n",
      "e     6\n",
      "g     6\n",
      "h     5\n",
      "dtype: int64\n"
     ]
    }
   ],
   "source": [
    "#addition\n",
    "s2=pd.Series({\"a\":1,\"b\":2,\"c\":3,\"d\":4,\"f\":5})\n",
    "s3=pd.Series({\"a\":10,\"b\":9,\"d\":8,\"e\":6,\"g\":6,\"h\":5})\n",
    "print(s2,\"\\n\",s3)"
   ]
  },
  {
   "cell_type": "code",
   "execution_count": 23,
   "id": "92ec8d4d-9de1-44e1-8932-e800de2ec621",
   "metadata": {},
   "outputs": [
    {
     "data": {
      "text/plain": [
       "a    11.0\n",
       "b    11.0\n",
       "c     NaN\n",
       "d    12.0\n",
       "e     NaN\n",
       "f     NaN\n",
       "g     NaN\n",
       "h     NaN\n",
       "dtype: float64"
      ]
     },
     "execution_count": 23,
     "metadata": {},
     "output_type": "execute_result"
    }
   ],
   "source": [
    "s2+s3"
   ]
  },
  {
   "cell_type": "code",
   "execution_count": 37,
   "id": "76647225-c5f3-49fb-9548-67565610fafb",
   "metadata": {},
   "outputs": [
    {
     "data": {
      "text/plain": [
       "a    10.0\n",
       "b    11.0\n",
       "c     6.0\n",
       "d    12.0\n",
       "e     9.0\n",
       "f     8.0\n",
       "g    16.0\n",
       "h     8.0\n",
       "dtype: float64"
      ]
     },
     "execution_count": 37,
     "metadata": {},
     "output_type": "execute_result"
    }
   ],
   "source": [
    "s2.add(s3,fill_value=3)"
   ]
  },
  {
   "cell_type": "code",
   "execution_count": 25,
   "id": "fbcb7e66-5332-459f-baf6-402a015c2016",
   "metadata": {},
   "outputs": [
    {
     "data": {
      "text/plain": [
       "a   -9.0\n",
       "b   -7.0\n",
       "c    NaN\n",
       "d   -4.0\n",
       "e    NaN\n",
       "f    NaN\n",
       "g    NaN\n",
       "h    NaN\n",
       "dtype: float64"
      ]
     },
     "execution_count": 25,
     "metadata": {},
     "output_type": "execute_result"
    }
   ],
   "source": [
    "#subtract\n",
    "s2-s3"
   ]
  },
  {
   "cell_type": "code",
   "execution_count": 26,
   "id": "9ec5a953-dbd8-4a1e-876f-9747d1a1649b",
   "metadata": {},
   "outputs": [
    {
     "data": {
      "text/plain": [
       "a   -9.0\n",
       "b   -7.0\n",
       "c    0.0\n",
       "d   -4.0\n",
       "e   -3.0\n",
       "f    2.0\n",
       "g   -3.0\n",
       "h   -2.0\n",
       "dtype: float64"
      ]
     },
     "execution_count": 26,
     "metadata": {},
     "output_type": "execute_result"
    }
   ],
   "source": [
    "s2.sub(s3,fill_value=3)"
   ]
  },
  {
   "cell_type": "code",
   "execution_count": 27,
   "id": "3db5482d-4553-4e9e-a491-d65cd1b33815",
   "metadata": {},
   "outputs": [
    {
     "data": {
      "text/plain": [
       "a    10.0\n",
       "b    18.0\n",
       "c     NaN\n",
       "d    32.0\n",
       "e     NaN\n",
       "f     NaN\n",
       "g     NaN\n",
       "h     NaN\n",
       "dtype: float64"
      ]
     },
     "execution_count": 27,
     "metadata": {},
     "output_type": "execute_result"
    }
   ],
   "source": [
    "#MUL\n",
    "s2*s3"
   ]
  },
  {
   "cell_type": "code",
   "execution_count": 28,
   "id": "c89945ae-e5ba-4de4-9553-86b23112be8d",
   "metadata": {},
   "outputs": [
    {
     "data": {
      "text/plain": [
       "a    10.0\n",
       "b    18.0\n",
       "c     9.0\n",
       "d    32.0\n",
       "e    18.0\n",
       "f    15.0\n",
       "g    18.0\n",
       "h    15.0\n",
       "dtype: float64"
      ]
     },
     "execution_count": 28,
     "metadata": {},
     "output_type": "execute_result"
    }
   ],
   "source": [
    "s2.mul(s3,fill_value=3)"
   ]
  },
  {
   "cell_type": "code",
   "execution_count": 29,
   "id": "af70bafc-5d4d-4db4-b744-04f300657496",
   "metadata": {},
   "outputs": [
    {
     "data": {
      "text/plain": [
       "a    0.100000\n",
       "b    0.222222\n",
       "c         NaN\n",
       "d    0.500000\n",
       "e         NaN\n",
       "f         NaN\n",
       "g         NaN\n",
       "h         NaN\n",
       "dtype: float64"
      ]
     },
     "execution_count": 29,
     "metadata": {},
     "output_type": "execute_result"
    }
   ],
   "source": [
    "s2/s3"
   ]
  },
  {
   "cell_type": "code",
   "execution_count": 30,
   "id": "48e07a30-0b31-4cb8-9a53-f44c09192626",
   "metadata": {},
   "outputs": [
    {
     "data": {
      "text/plain": [
       "a    0.100000\n",
       "b    0.222222\n",
       "c    1.000000\n",
       "d    0.500000\n",
       "e    0.500000\n",
       "f    1.666667\n",
       "g    0.500000\n",
       "h    0.600000\n",
       "dtype: float64"
      ]
     },
     "execution_count": 30,
     "metadata": {},
     "output_type": "execute_result"
    }
   ],
   "source": [
    "s2.div(s3,fill_value=3)"
   ]
  },
  {
   "cell_type": "code",
   "execution_count": 31,
   "id": "e153d81f-9bce-4bae-94f3-0b3ddb40ff1b",
   "metadata": {},
   "outputs": [
    {
     "data": {
      "text/plain": [
       "a    1\n",
       "b    2\n",
       "c    3\n",
       "d    4\n",
       "f    5\n",
       "dtype: int64"
      ]
     },
     "execution_count": 31,
     "metadata": {},
     "output_type": "execute_result"
    }
   ],
   "source": [
    "s2"
   ]
  },
  {
   "cell_type": "code",
   "execution_count": 32,
   "id": "da8b64b2-64e4-49aa-a20f-8a259f7e9dbb",
   "metadata": {},
   "outputs": [
    {
     "data": {
      "text/plain": [
       "1"
      ]
     },
     "execution_count": 32,
     "metadata": {},
     "output_type": "execute_result"
    }
   ],
   "source": [
    "s2[\"a\"]"
   ]
  },
  {
   "cell_type": "code",
   "execution_count": 33,
   "id": "27c98bb2-3f11-465e-a78d-1c276be5347d",
   "metadata": {},
   "outputs": [],
   "source": [
    "s2[\"g\"]=10"
   ]
  },
  {
   "cell_type": "code",
   "execution_count": 34,
   "id": "3a027c9a-04bf-42ee-9a2d-686e21861441",
   "metadata": {},
   "outputs": [
    {
     "data": {
      "text/plain": [
       "a     1\n",
       "b     2\n",
       "c     3\n",
       "d     4\n",
       "f     5\n",
       "g    10\n",
       "dtype: int64"
      ]
     },
     "execution_count": 34,
     "metadata": {},
     "output_type": "execute_result"
    }
   ],
   "source": [
    "s2"
   ]
  },
  {
   "cell_type": "code",
   "execution_count": 35,
   "id": "5ba5ecb0-9081-45a3-b138-363d8f95d197",
   "metadata": {},
   "outputs": [],
   "source": [
    "s2[\"a\"]=0"
   ]
  },
  {
   "cell_type": "code",
   "execution_count": 36,
   "id": "92e3f7d5-ec7b-4060-b663-f4b13c93e431",
   "metadata": {},
   "outputs": [
    {
     "data": {
      "text/plain": [
       "a     0\n",
       "b     2\n",
       "c     3\n",
       "d     4\n",
       "f     5\n",
       "g    10\n",
       "dtype: int64"
      ]
     },
     "execution_count": 36,
     "metadata": {},
     "output_type": "execute_result"
    }
   ],
   "source": [
    "s2"
   ]
  },
  {
   "cell_type": "code",
   "execution_count": null,
   "id": "c80e83c6-d1de-4b74-ab66-164d0f05b525",
   "metadata": {},
   "outputs": [],
   "source": []
  }
 ],
 "metadata": {
  "kernelspec": {
   "display_name": "Python 3 (ipykernel)",
   "language": "python",
   "name": "python3"
  },
  "language_info": {
   "codemirror_mode": {
    "name": "ipython",
    "version": 3
   },
   "file_extension": ".py",
   "mimetype": "text/x-python",
   "name": "python",
   "nbconvert_exporter": "python",
   "pygments_lexer": "ipython3",
   "version": "3.8.10"
  }
 },
 "nbformat": 4,
 "nbformat_minor": 5
}
