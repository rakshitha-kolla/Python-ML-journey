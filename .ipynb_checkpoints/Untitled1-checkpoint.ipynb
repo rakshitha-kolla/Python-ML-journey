{
 "cells": [
  {
   "cell_type": "code",
   "execution_count": null,
   "id": "07cc9cb2-214e-4c89-9a2b-4c519f931ab5",
   "metadata": {},
   "outputs": [],
   "source": []
  }
 ],
 "metadata": {
  "kernelspec": {
   "display_name": "Python 3 (ipykernel)",
   "language": "python",
   "name": "python3"
  },
  "language_info": {
   "name": ""
  }
 },
 "nbformat": 4,
 "nbformat_minor": 5
}
