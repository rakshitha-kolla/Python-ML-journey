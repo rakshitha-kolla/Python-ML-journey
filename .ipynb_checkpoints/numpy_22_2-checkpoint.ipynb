{
 "cells": [
  {
   "cell_type": "code",
   "execution_count": 1,
   "id": "ec23b1c8-ee8c-46b1-8e40-517f85753ae4",
   "metadata": {},
   "outputs": [],
   "source": [
    "import numpy as np\n"
   ]
  },
  {
   "cell_type": "code",
   "execution_count": 2,
   "id": "157258c5-3f66-486f-8a1e-1f6a9bb3deae",
   "metadata": {},
   "outputs": [
    {
     "data": {
      "text/plain": [
       "array(['a', 'e', 'i', 'o', 'u'], dtype='<U1')"
      ]
     },
     "execution_count": 2,
     "metadata": {},
     "output_type": "execute_result"
    }
   ],
   "source": [
    "vowels=np.array(['a','e','i','o','u'])\n",
    "vowels"
   ]
  },
  {
   "cell_type": "code",
   "execution_count": 3,
   "id": "1afa4c2e-6eaa-4b43-9646-5524c0c052f9",
   "metadata": {},
   "outputs": [
    {
     "data": {
      "text/plain": [
       "array([[1, 1, 1, 1, 1],\n",
       "       [1, 1, 1, 1, 1]])"
      ]
     },
     "execution_count": 3,
     "metadata": {},
     "output_type": "execute_result"
    }
   ],
   "source": [
    "ones=np.ones((2,5),dtype=int)\n",
    "ones"
   ]
  },
  {
   "cell_type": "code",
   "execution_count": 5,
   "id": "a7bd8247-e8cd-4eaa-a815-53e5ad51568e",
   "metadata": {},
   "outputs": [
    {
     "data": {
      "text/plain": [
       "array([[  2.7,  -2. , -19. ],\n",
       "       [  0. ,   3.4,  99.9],\n",
       "       [ 10.6,   0. ,  13. ]])"
      ]
     },
     "execution_count": 5,
     "metadata": {},
     "output_type": "execute_result"
    }
   ],
   "source": [
    "myarray1=np.array([[2.7,-2,-19],[0,3.4,99.9],[10.6,0,13]])\n",
    "myarray1"
   ]
  },
  {
   "cell_type": "code",
   "execution_count": 6,
   "id": "ce1b0256-010d-4993-89c1-5d612977af43",
   "metadata": {},
   "outputs": [
    {
     "data": {
      "text/plain": [
       "array([[ 4.,  8., 12., 16., 20.],\n",
       "       [24., 28., 32., 36., 40.],\n",
       "       [44., 48., 52., 56., 60.]])"
      ]
     },
     "execution_count": 6,
     "metadata": {},
     "output_type": "execute_result"
    }
   ],
   "source": [
    "array=np.arange(4,64,4,dtype=float)\n",
    "myarray2=array.reshape(3,5)\n",
    "myarray2"
   ]
  },
  {
   "cell_type": "code",
   "execution_count": 7,
   "id": "658c36ec-cbca-45b2-ace3-e586512d6aff",
   "metadata": {},
   "outputs": [
    {
     "data": {
      "text/plain": [
       "array([[-1.  , -0.75, -0.5 ],\n",
       "       [-0.25,  0.  ,  0.25],\n",
       "       [ 0.5 ,  0.75,  1.  ],\n",
       "       [ 1.25,  1.5 ,  1.75],\n",
       "       [ 2.  ,  2.25,  2.5 ],\n",
       "       [ 2.75,  3.  ,  3.25],\n",
       "       [ 3.5 ,  3.75,  4.  ],\n",
       "       [ 4.25,  4.5 ,  4.75],\n",
       "       [ 5.  ,  5.25,  5.5 ],\n",
       "       [ 5.75,  6.  ,  6.25],\n",
       "       [ 6.5 ,  6.75,  7.  ],\n",
       "       [ 7.25,  7.5 ,  7.75],\n",
       "       [ 8.  ,  8.25,  8.5 ],\n",
       "       [ 8.75,  9.  ,  9.25]])"
      ]
     },
     "execution_count": 7,
     "metadata": {},
     "output_type": "execute_result"
    }
   ],
   "source": [
    "array1=np.arange(-1,9.50,0.25)\n",
    "myarray4=array1.reshape(14,3)\n",
    "myarray4"
   ]
  },
  {
   "cell_type": "code",
   "execution_count": 8,
   "id": "7883d4f0-79bd-4f24-ac02-6096a3065396",
   "metadata": {},
   "outputs": [
    {
     "data": {
      "text/plain": [
       "[array([[-1.  , -0.75, -0.5 ],\n",
       "        [-0.25,  0.  ,  0.25],\n",
       "        [ 0.5 ,  0.75,  1.  ],\n",
       "        [ 1.25,  1.5 ,  1.75],\n",
       "        [ 2.  ,  2.25,  2.5 ]]),\n",
       " array([[2.75, 3.  , 3.25],\n",
       "        [3.5 , 3.75, 4.  ],\n",
       "        [4.25, 4.5 , 4.75],\n",
       "        [5.  , 5.25, 5.5 ],\n",
       "        [5.75, 6.  , 6.25]]),\n",
       " array([[6.5 , 6.75, 7.  ],\n",
       "        [7.25, 7.5 , 7.75],\n",
       "        [8.  , 8.25, 8.5 ],\n",
       "        [8.75, 9.  , 9.25]])]"
      ]
     },
     "execution_count": 8,
     "metadata": {},
     "output_type": "execute_result"
    }
   ],
   "source": [
    "splited=np.array_split(myarray4,3)\n",
    "splited"
   ]
  },
  {
   "cell_type": "code",
   "execution_count": 9,
   "id": "23e1aa40-ac62-43c2-ac7b-7f96b854eb96",
   "metadata": {},
   "outputs": [
    {
     "data": {
      "text/plain": [
       "array([54.25, 57.75, 61.25])"
      ]
     },
     "execution_count": 9,
     "metadata": {},
     "output_type": "execute_result"
    }
   ],
   "source": [
    "myarray4.sum(axis=0)"
   ]
  },
  {
   "cell_type": "code",
   "execution_count": 10,
   "id": "81d2f41e-4cf2-4cc6-aa6a-4dd39f51bbda",
   "metadata": {},
   "outputs": [
    {
     "data": {
      "text/plain": [
       "9.25"
      ]
     },
     "execution_count": 10,
     "metadata": {},
     "output_type": "execute_result"
    }
   ],
   "source": [
    "myarray4.max()"
   ]
  },
  {
   "cell_type": "code",
   "execution_count": 11,
   "id": "b6e5eeb5-ad9d-41d7-b8f2-69a4b65fda1a",
   "metadata": {},
   "outputs": [
    {
     "data": {
      "text/plain": [
       "array([-1.  , -0.25,  0.5 ,  1.25,  2.  ,  2.75,  3.5 ,  4.25,  5.  ,\n",
       "        5.75,  6.5 ,  7.25,  8.  ,  8.75])"
      ]
     },
     "execution_count": 11,
     "metadata": {},
     "output_type": "execute_result"
    }
   ],
   "source": [
    "myarray4.min(axis=1)"
   ]
  },
  {
   "cell_type": "code",
   "execution_count": 12,
   "id": "385b3468-adf8-4690-b644-d74e4384bb1a",
   "metadata": {},
   "outputs": [
    {
     "data": {
      "text/plain": [
       "array([-0.75,  0.  ,  0.75,  1.5 ,  2.25,  3.  ,  3.75,  4.5 ,  5.25,\n",
       "        6.  ,  6.75,  7.5 ,  8.25,  9.  ])"
      ]
     },
     "execution_count": 12,
     "metadata": {},
     "output_type": "execute_result"
    }
   ],
   "source": [
    "myarray4.mean(axis=1)"
   ]
  },
  {
   "cell_type": "code",
   "execution_count": 13,
   "id": "e3d2ec3d-7d5d-4193-a9ae-3aca114a2643",
   "metadata": {},
   "outputs": [
    {
     "data": {
      "text/plain": [
       "array([3.02334666, 3.02334666, 3.02334666])"
      ]
     },
     "execution_count": 13,
     "metadata": {},
     "output_type": "execute_result"
    }
   ],
   "source": [
    "myarray4.std(axis=0)"
   ]
  },
  {
   "cell_type": "code",
   "execution_count": 14,
   "id": "94b1f645-83e5-4f9c-8e57-37d95c6b4fe7",
   "metadata": {},
   "outputs": [
    {
     "data": {
      "text/plain": [
       "array([[0.33333333, 0.33333333, 0.33333333, 0.33333333, 0.33333333],\n",
       "       [0.33333333, 0.33333333, 0.33333333, 0.33333333, 0.33333333]])"
      ]
     },
     "execution_count": 14,
     "metadata": {},
     "output_type": "execute_result"
    }
   ],
   "source": [
    "ones/3"
   ]
  },
  {
   "cell_type": "code",
   "execution_count": 15,
   "id": "cdd967a0-4aaf-4602-a230-8c233b8aa1f8",
   "metadata": {},
   "outputs": [
    {
     "data": {
      "text/plain": [
       "array([[ -873.2,  -946.4, -1019.6, -1092.8, -1166. ],\n",
       "       [ 4477.2,  4890.4,  5303.6,  5716.8,  6130. ],\n",
       "       [  614.4,   708.8,   803.2,   897.6,   992. ]])"
      ]
     },
     "execution_count": 15,
     "metadata": {},
     "output_type": "execute_result"
    }
   ],
   "source": [
    "myarray3=myarray1@myarray2\n",
    "myarray3"
   ]
  },
  {
   "cell_type": "code",
   "execution_count": null,
   "id": "12614968-21aa-4b45-9d04-51fbad726a01",
   "metadata": {},
   "outputs": [],
   "source": []
  }
 ],
 "metadata": {
  "kernelspec": {
   "display_name": "Python 3 (ipykernel)",
   "language": "python",
   "name": "python3"
  },
  "language_info": {
   "codemirror_mode": {
    "name": "ipython",
    "version": 3
   },
   "file_extension": ".py",
   "mimetype": "text/x-python",
   "name": "python",
   "nbconvert_exporter": "python",
   "pygments_lexer": "ipython3",
   "version": "3.8.10"
  }
 },
 "nbformat": 4,
 "nbformat_minor": 5
}
