{
 "cells": [
  {
   "cell_type": "code",
   "execution_count": 1,
   "id": "1d2e62e6-743a-4913-aa83-ff62d10b91a8",
   "metadata": {},
   "outputs": [],
   "source": [
    "import pandas as pd\n",
    "import numpy as np"
   ]
  },
  {
   "cell_type": "code",
   "execution_count": 23,
   "id": "6d1d9c6b-5dcc-4477-a2ce-7f748be8b9d2",
   "metadata": {},
   "outputs": [
    {
     "data": {
      "text/html": [
       "<div>\n",
       "<style scoped>\n",
       "    .dataframe tbody tr th:only-of-type {\n",
       "        vertical-align: middle;\n",
       "    }\n",
       "\n",
       "    .dataframe tbody tr th {\n",
       "        vertical-align: top;\n",
       "    }\n",
       "\n",
       "    .dataframe thead th {\n",
       "        text-align: right;\n",
       "    }\n",
       "</style>\n",
       "<table border=\"1\" class=\"dataframe\">\n",
       "  <thead>\n",
       "    <tr style=\"text-align: right;\">\n",
       "      <th></th>\n",
       "      <th>AGE</th>\n",
       "      <th>INCOME</th>\n",
       "    </tr>\n",
       "  </thead>\n",
       "  <tbody>\n",
       "    <tr>\n",
       "      <th>1</th>\n",
       "      <td>20</td>\n",
       "      <td>15000</td>\n",
       "    </tr>\n",
       "    <tr>\n",
       "      <th>2</th>\n",
       "      <td>32</td>\n",
       "      <td>35000</td>\n",
       "    </tr>\n",
       "    <tr>\n",
       "      <th>3</th>\n",
       "      <td>24</td>\n",
       "      <td>27000</td>\n",
       "    </tr>\n",
       "    <tr>\n",
       "      <th>4</th>\n",
       "      <td>64</td>\n",
       "      <td>70000</td>\n",
       "    </tr>\n",
       "    <tr>\n",
       "      <th>5</th>\n",
       "      <td>38</td>\n",
       "      <td>50000</td>\n",
       "    </tr>\n",
       "    <tr>\n",
       "      <th>6</th>\n",
       "      <td>50</td>\n",
       "      <td>65000</td>\n",
       "    </tr>\n",
       "    <tr>\n",
       "      <th>7</th>\n",
       "      <td>56</td>\n",
       "      <td>68000</td>\n",
       "    </tr>\n",
       "    <tr>\n",
       "      <th>8</th>\n",
       "      <td>42</td>\n",
       "      <td>49000</td>\n",
       "    </tr>\n",
       "    <tr>\n",
       "      <th>9</th>\n",
       "      <td>33</td>\n",
       "      <td>41000</td>\n",
       "    </tr>\n",
       "    <tr>\n",
       "      <th>10</th>\n",
       "      <td>45</td>\n",
       "      <td>52000</td>\n",
       "    </tr>\n",
       "    <tr>\n",
       "      <th>11</th>\n",
       "      <td>19</td>\n",
       "      <td>23000</td>\n",
       "    </tr>\n",
       "    <tr>\n",
       "      <th>12</th>\n",
       "      <td>45</td>\n",
       "      <td>53000</td>\n",
       "    </tr>\n",
       "    <tr>\n",
       "      <th>13</th>\n",
       "      <td>35</td>\n",
       "      <td>42000</td>\n",
       "    </tr>\n",
       "  </tbody>\n",
       "</table>\n",
       "</div>"
      ],
      "text/plain": [
       "    AGE  INCOME\n",
       "1    20   15000\n",
       "2    32   35000\n",
       "3    24   27000\n",
       "4    64   70000\n",
       "5    38   50000\n",
       "6    50   65000\n",
       "7    56   68000\n",
       "8    42   49000\n",
       "9    33   41000\n",
       "10   45   52000\n",
       "11   19   23000\n",
       "12   45   53000\n",
       "13   35   42000"
      ]
     },
     "execution_count": 23,
     "metadata": {},
     "output_type": "execute_result"
    }
   ],
   "source": [
    "ages=pd.Series([20,32,24,64,38,50,56,42,33,45,19,45,35])\n",
    "income=pd.Series([15000,35000,27000,70000,50000,65000,68000,49000,41000,52000,23000,53000,42000])\n",
    "dict={}\n",
    "for i in range(0,13,1):\n",
    "    dict[i]=i+1\n",
    "df_age_salary=pd.DataFrame({\"AGE\":ages,\"INCOME\":income})\n",
    "df_age_salary1=df_age_salary.rename(index=dict)\n",
    "df_age_salary1"
   ]
  },
  {
   "cell_type": "code",
   "execution_count": 29,
   "id": "2ad6c65e-63cc-4736-8975-009dcfcd4e40",
   "metadata": {},
   "outputs": [
    {
     "data": {
      "text/plain": [
       "0           youth\n",
       "1     middle-aged\n",
       "2           youth\n",
       "3         too old\n",
       "4     middle-aged\n",
       "5           adult\n",
       "6             old\n",
       "7           adult\n",
       "8     middle-aged\n",
       "9           adult\n",
       "10        teenage\n",
       "11          adult\n",
       "12    middle-aged\n",
       "dtype: category\n",
       "Categories (6, object): ['teenage' < 'youth' < 'middle-aged' < 'adult' < 'old' < 'too old']"
      ]
     },
     "execution_count": 29,
     "metadata": {},
     "output_type": "execute_result"
    }
   ],
   "source": [
    "#binning the above created ages series\n",
    "ages=pd.Series([20,32,24,64,38,50,56,42,33,45,19,45,35])\n",
    "bins=[13,19,30,40,50,60,70]\n",
    "labels=[\"teenage\",\"youth\",\"middle-aged\",\"adult\",\"old\",\"too old\"]\n",
    "age_bin=pd.cut(ages,bins,labels=labels)\n",
    "age_bin"
   ]
  },
  {
   "cell_type": "code",
   "execution_count": 30,
   "id": "b6d5510d-49cb-4cd1-8b0f-1181ad55bd1e",
   "metadata": {},
   "outputs": [
    {
     "data": {
      "text/plain": [
       "0     (18.999, 24.0]\n",
       "1       (24.0, 33.0]\n",
       "2     (18.999, 24.0]\n",
       "3       (50.0, 64.0]\n",
       "4       (33.0, 38.0]\n",
       "5       (45.0, 50.0]\n",
       "6       (50.0, 64.0]\n",
       "7       (38.0, 45.0]\n",
       "8       (24.0, 33.0]\n",
       "9       (38.0, 45.0]\n",
       "10    (18.999, 24.0]\n",
       "11      (38.0, 45.0]\n",
       "12      (33.0, 38.0]\n",
       "dtype: category\n",
       "Categories (6, interval[float64, right]): [(18.999, 24.0] < (24.0, 33.0] < (33.0, 38.0] < (38.0, 45.0] < (45.0, 50.0] < (50.0, 64.0]]"
      ]
     },
     "execution_count": 30,
     "metadata": {},
     "output_type": "execute_result"
    }
   ],
   "source": [
    "#using quintle\n",
    "agebin=pd.qcut(ages,6,labels=)\n",
    "agebin"
   ]
  },
  {
   "cell_type": "code",
   "execution_count": null,
   "id": "74e28687-ff11-4f45-85fb-082f2b2c4460",
   "metadata": {},
   "outputs": [],
   "source": []
  }
 ],
 "metadata": {
  "kernelspec": {
   "display_name": "Python 3 (ipykernel)",
   "language": "python",
   "name": "python3"
  },
  "language_info": {
   "codemirror_mode": {
    "name": "ipython",
    "version": 3
   },
   "file_extension": ".py",
   "mimetype": "text/x-python",
   "name": "python",
   "nbconvert_exporter": "python",
   "pygments_lexer": "ipython3",
   "version": "3.8.10"
  }
 },
 "nbformat": 4,
 "nbformat_minor": 5
}
