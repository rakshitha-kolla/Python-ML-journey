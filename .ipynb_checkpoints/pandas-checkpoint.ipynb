{
 "cells": [
  {
   "cell_type": "code",
   "execution_count": 6,
   "id": "6875155a-c3e3-43c8-ad61-d6816d90488d",
   "metadata": {},
   "outputs": [],
   "source": [
    "import pandas as pd\n",
    "import numpy as np"
   ]
  },
  {
   "cell_type": "code",
   "execution_count": 7,
   "id": "ab764be6-b88d-40e3-a730-a555d67a7e9b",
   "metadata": {},
   "outputs": [
    {
     "data": {
      "text/plain": [
       "0     A\n",
       "1     B\n",
       "2     C\n",
       "3     D\n",
       "4     E\n",
       "5     F\n",
       "6     G\n",
       "7     H\n",
       "8     I\n",
       "9     J\n",
       "10    K\n",
       "11    L\n",
       "12    M\n",
       "13    N\n",
       "14    O\n",
       "15    P\n",
       "16    Q\n",
       "17    R\n",
       "18    S\n",
       "19    T\n",
       "20    U\n",
       "21    V\n",
       "22    W\n",
       "23    X\n",
       "24    Y\n",
       "25    Z\n",
       "dtype: object"
      ]
     },
     "execution_count": 7,
     "metadata": {},
     "output_type": "execute_result"
    }
   ],
   "source": [
    "list=[]\n",
    "for i in range(65,91,1):\n",
    "    list.append(chr(i))\n",
    "EngAlph=pd.Series(list)\n",
    "EngAlph\n"
   ]
  },
  {
   "cell_type": "code",
   "execution_count": 69,
   "id": "da6447bd-ec86-4382-92f6-489704095a19",
   "metadata": {},
   "outputs": [
    {
     "data": {
      "text/plain": [
       "False"
      ]
     },
     "execution_count": 69,
     "metadata": {},
     "output_type": "execute_result"
    }
   ],
   "source": [
    "a1=np.zeros([5],dtype=int)\n",
    "Vowels=pd.Series(a1,index=[\"a\",\"e\",\"i\",\"o\",\"u\"])\n",
    "Vowels\n",
    "Vowels.empty"
   ]
  },
  {
   "cell_type": "code",
   "execution_count": 17,
   "id": "410d6153-e652-424e-a3c6-417bafe46b5a",
   "metadata": {},
   "outputs": [
    {
     "data": {
      "text/plain": [
       "Rajitha    13\n",
       "Cherry     14\n",
       "Abhi       19\n",
       "Rakshi     25\n",
       "Manasa     35\n",
       "dtype: int64"
      ]
     },
     "execution_count": 17,
     "metadata": {},
     "output_type": "execute_result"
    }
   ],
   "source": [
    "Friends=pd.Series({\"Rajitha\":13,\"Cherry\":14,\"Abhi\":19,\"Rakshi\":25,\"Manasa\":35})\n",
    "Friends"
   ]
  },
  {
   "cell_type": "code",
   "execution_count": 20,
   "id": "658aa2f5-b816-41f9-b558-cb7d0a4441a2",
   "metadata": {},
   "outputs": [
    {
     "data": {
      "text/plain": [
       "True"
      ]
     },
     "execution_count": 20,
     "metadata": {},
     "output_type": "execute_result"
    }
   ],
   "source": [
    "MTseries=pd.Series()\n",
    "MTseries.empty"
   ]
  },
  {
   "cell_type": "code",
   "execution_count": 23,
   "id": "c283e02a-4131-4189-b367-9fb7331c2cc4",
   "metadata": {},
   "outputs": [
    {
     "data": {
      "text/plain": [
       "1     31\n",
       "2     29\n",
       "3     31\n",
       "4     30\n",
       "5     31\n",
       "6     30\n",
       "7     31\n",
       "8     31\n",
       "9     30\n",
       "10    31\n",
       "11    30\n",
       "12    31\n",
       "dtype: int64"
      ]
     },
     "execution_count": 23,
     "metadata": {},
     "output_type": "execute_result"
    }
   ],
   "source": [
    "days=np.array([31,29,31,30,31,30,31,31,30,31,30,31])\n",
    "MonthDays=pd.Series(days,index=[1,2,3,4,5,6,7,8,9,10,11,12])\n",
    "MonthDays"
   ]
  },
  {
   "cell_type": "code",
   "execution_count": 70,
   "id": "a6f7fb02-1089-4de8-b451-2d30055e0019",
   "metadata": {},
   "outputs": [
    {
     "data": {
      "text/plain": [
       "a    0\n",
       "e    0\n",
       "i    0\n",
       "o    0\n",
       "u    0\n",
       "dtype: int64"
      ]
     },
     "execution_count": 70,
     "metadata": {},
     "output_type": "execute_result"
    }
   ],
   "source": [
    "Vowels"
   ]
  },
  {
   "cell_type": "code",
   "execution_count": 71,
   "id": "a3c8e3a7-0d18-4aa0-8cd0-7f8e9e5a9e1a",
   "metadata": {},
   "outputs": [],
   "source": [
    "Vowels=Vowels+10"
   ]
  },
  {
   "cell_type": "code",
   "execution_count": 72,
   "id": "d71b43b8-8960-4be5-ae4c-5a36bb008fe6",
   "metadata": {},
   "outputs": [
    {
     "data": {
      "text/plain": [
       "a    10\n",
       "e    10\n",
       "i    10\n",
       "o    10\n",
       "u    10\n",
       "dtype: int64"
      ]
     },
     "execution_count": 72,
     "metadata": {},
     "output_type": "execute_result"
    }
   ],
   "source": [
    "Vowels"
   ]
  },
  {
   "cell_type": "code",
   "execution_count": 73,
   "id": "4df42cb8-f291-4b2b-895c-21916aeb3130",
   "metadata": {},
   "outputs": [],
   "source": [
    "Vowels=Vowels/2"
   ]
  },
  {
   "cell_type": "code",
   "execution_count": 74,
   "id": "87b5d0dc-b5c4-4c33-bfe5-da543bd47f8a",
   "metadata": {},
   "outputs": [
    {
     "data": {
      "text/plain": [
       "a    5.0\n",
       "e    5.0\n",
       "i    5.0\n",
       "o    5.0\n",
       "u    5.0\n",
       "dtype: float64"
      ]
     },
     "execution_count": 74,
     "metadata": {},
     "output_type": "execute_result"
    }
   ],
   "source": [
    "Vowels"
   ]
  },
  {
   "cell_type": "code",
   "execution_count": 75,
   "id": "3bdc2a32-ed88-4291-830f-6cce6aaccb1b",
   "metadata": {},
   "outputs": [
    {
     "data": {
      "text/plain": [
       "a    2\n",
       "e    5\n",
       "i    6\n",
       "o    3\n",
       "u    8\n",
       "dtype: int64"
      ]
     },
     "execution_count": 75,
     "metadata": {},
     "output_type": "execute_result"
    }
   ],
   "source": [
    "Vowels1=pd.Series([2,5,6,3,8],index=[\"a\",\"e\",\"i\",\"o\",\"u\"])\n",
    "Vowels1"
   ]
  },
  {
   "cell_type": "code",
   "execution_count": 77,
   "id": "3a43e6b8-be82-472f-b059-4c7d92105d69",
   "metadata": {},
   "outputs": [
    {
     "data": {
      "text/plain": [
       "a     7.0\n",
       "e    10.0\n",
       "i    11.0\n",
       "o     8.0\n",
       "u    13.0\n",
       "dtype: float64"
      ]
     },
     "execution_count": 77,
     "metadata": {},
     "output_type": "execute_result"
    }
   ],
   "source": [
    "Vowels3=Vowels+Vowels1\n",
    "Vowels3"
   ]
  },
  {
   "cell_type": "code",
   "execution_count": 78,
   "id": "7d445e64-558a-4195-a4e7-3a8c627ad198",
   "metadata": {},
   "outputs": [
    {
     "data": {
      "text/plain": [
       "a    3.0\n",
       "e    0.0\n",
       "i   -1.0\n",
       "o    2.0\n",
       "u   -3.0\n",
       "dtype: float64"
      ]
     },
     "execution_count": 78,
     "metadata": {},
     "output_type": "execute_result"
    }
   ],
   "source": [
    "Vowels-Vowels1"
   ]
  },
  {
   "cell_type": "code",
   "execution_count": 79,
   "id": "ddb140c5-69fd-4460-a0b5-99fda4b488b5",
   "metadata": {},
   "outputs": [
    {
     "data": {
      "text/plain": [
       "a    2.500000\n",
       "e    1.000000\n",
       "i    0.833333\n",
       "o    1.666667\n",
       "u    0.625000\n",
       "dtype: float64"
      ]
     },
     "execution_count": 79,
     "metadata": {},
     "output_type": "execute_result"
    }
   ],
   "source": [
    "Vowels/Vowels1"
   ]
  },
  {
   "cell_type": "code",
   "execution_count": 80,
   "id": "ee03c69a-f8b5-487f-be0f-09805a6c5730",
   "metadata": {},
   "outputs": [
    {
     "data": {
      "text/plain": [
       "a    10.0\n",
       "e    25.0\n",
       "i    30.0\n",
       "o    15.0\n",
       "u    40.0\n",
       "dtype: float64"
      ]
     },
     "execution_count": 80,
     "metadata": {},
     "output_type": "execute_result"
    }
   ],
   "source": [
    "Vowels*Vowels1"
   ]
  },
  {
   "cell_type": "code",
   "execution_count": null,
   "id": "f3db4ca7-b92d-4ce6-9852-094554dcbb98",
   "metadata": {},
   "outputs": [],
   "source": [
    "     "
   ]
  }
 ],
 "metadata": {
  "kernelspec": {
   "display_name": "Python 3 (ipykernel)",
   "language": "python",
   "name": "python3"
  },
  "language_info": {
   "codemirror_mode": {
    "name": "ipython",
    "version": 3
   },
   "file_extension": ".py",
   "mimetype": "text/x-python",
   "name": "python",
   "nbconvert_exporter": "python",
   "pygments_lexer": "ipython3",
   "version": "3.8.10"
  }
 },
 "nbformat": 4,
 "nbformat_minor": 5
}
