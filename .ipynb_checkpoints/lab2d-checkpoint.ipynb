{
 "cells": [
  {
   "cell_type": "code",
   "execution_count": 5,
   "id": "6047670e-a093-490a-a9a5-4c5f99eeb538",
   "metadata": {},
   "outputs": [
    {
     "data": {
      "text/html": [
       "<div>\n",
       "<style scoped>\n",
       "    .dataframe tbody tr th:only-of-type {\n",
       "        vertical-align: middle;\n",
       "    }\n",
       "\n",
       "    .dataframe tbody tr th {\n",
       "        vertical-align: top;\n",
       "    }\n",
       "\n",
       "    .dataframe thead th {\n",
       "        text-align: right;\n",
       "    }\n",
       "</style>\n",
       "<table border=\"1\" class=\"dataframe\">\n",
       "  <thead>\n",
       "    <tr style=\"text-align: right;\">\n",
       "      <th></th>\n",
       "      <th>AT1</th>\n",
       "      <th>AT2</th>\n",
       "      <th>AT3</th>\n",
       "      <th>AT4</th>\n",
       "      <th>MID1</th>\n",
       "      <th>MID2</th>\n",
       "    </tr>\n",
       "  </thead>\n",
       "  <tbody>\n",
       "    <tr>\n",
       "      <th>rakshi</th>\n",
       "      <td>9</td>\n",
       "      <td>10</td>\n",
       "      <td>9</td>\n",
       "      <td>10</td>\n",
       "      <td>13</td>\n",
       "      <td>15</td>\n",
       "    </tr>\n",
       "    <tr>\n",
       "      <th>sri</th>\n",
       "      <td>10</td>\n",
       "      <td>8</td>\n",
       "      <td>8</td>\n",
       "      <td>8</td>\n",
       "      <td>14</td>\n",
       "      <td>15</td>\n",
       "    </tr>\n",
       "    <tr>\n",
       "      <th>pandu</th>\n",
       "      <td>8</td>\n",
       "      <td>9</td>\n",
       "      <td>7</td>\n",
       "      <td>9</td>\n",
       "      <td>15</td>\n",
       "      <td>13</td>\n",
       "    </tr>\n",
       "    <tr>\n",
       "      <th>meghaana</th>\n",
       "      <td>8</td>\n",
       "      <td>7</td>\n",
       "      <td>10</td>\n",
       "      <td>7</td>\n",
       "      <td>11</td>\n",
       "      <td>14</td>\n",
       "    </tr>\n",
       "    <tr>\n",
       "      <th>cherry</th>\n",
       "      <td>9</td>\n",
       "      <td>5</td>\n",
       "      <td>8</td>\n",
       "      <td>10</td>\n",
       "      <td>12</td>\n",
       "      <td>13</td>\n",
       "    </tr>\n",
       "    <tr>\n",
       "      <th>gayi</th>\n",
       "      <td>10</td>\n",
       "      <td>9</td>\n",
       "      <td>7</td>\n",
       "      <td>9</td>\n",
       "      <td>10</td>\n",
       "      <td>12</td>\n",
       "    </tr>\n",
       "  </tbody>\n",
       "</table>\n",
       "</div>"
      ],
      "text/plain": [
       "          AT1  AT2  AT3  AT4  MID1  MID2\n",
       "rakshi      9   10    9   10    13    15\n",
       "sri        10    8    8    8    14    15\n",
       "pandu       8    9    7    9    15    13\n",
       "meghaana    8    7   10    7    11    14\n",
       "cherry      9    5    8   10    12    13\n",
       "gayi       10    9    7    9    10    12"
      ]
     },
     "execution_count": 5,
     "metadata": {},
     "output_type": "execute_result"
    }
   ],
   "source": [
    "import pandas as pd\n",
    "data={\"AT1\":[9,10,8,8,9,10],\"AT2\":[10,8,9,7,5,9],\"AT3\":[9,8,7,10,8,7],\"AT4\":[10,8,9,7,10,9],\"MID1\":[13,14,15,11,12,10],\"MID2\":[15,15,13,14,13,12]}\n",
    "df=pd.DataFrame(data,index=[\"rakshi\",\"sri\",\"pandu\",\"meghaana\",\"cherry\",\"gayi\"])\n",
    "df"
   ]
  },
  {
   "cell_type": "code",
   "execution_count": 19,
   "id": "3d943046-412b-4299-b9a4-b4a116a0a41c",
   "metadata": {},
   "outputs": [
    {
     "data": {
      "text/plain": [
       "rakshi      66\n",
       "sri         63\n",
       "pandu       61\n",
       "meghaana    57\n",
       "cherry      57\n",
       "gayi        57\n",
       "dtype: int64"
      ]
     },
     "execution_count": 19,
     "metadata": {},
     "output_type": "execute_result"
    }
   ],
   "source": [
    "#operations on entire data\n",
    "#sum\n",
    "df.sum(axis=1)"
   ]
  },
  {
   "cell_type": "code",
   "execution_count": 7,
   "id": "ba1f5192-5857-4079-8c8f-fb49b54b1522",
   "metadata": {},
   "outputs": [
    {
     "data": {
      "text/plain": [
       "AT1     54\n",
       "AT2     48\n",
       "AT3     49\n",
       "AT4     53\n",
       "MID1    75\n",
       "MID2    82\n",
       "dtype: int64"
      ]
     },
     "execution_count": 7,
     "metadata": {},
     "output_type": "execute_result"
    }
   ],
   "source": [
    "df.sum(axis=0)"
   ]
  },
  {
   "cell_type": "code",
   "execution_count": 8,
   "id": "3a948735-60c5-44c0-bd0a-080300753975",
   "metadata": {},
   "outputs": [
    {
     "data": {
      "text/plain": [
       "rakshi      11.000000\n",
       "sri         10.500000\n",
       "pandu       10.166667\n",
       "meghaana     9.500000\n",
       "cherry       9.500000\n",
       "gayi         9.500000\n",
       "dtype: float64"
      ]
     },
     "execution_count": 8,
     "metadata": {},
     "output_type": "execute_result"
    }
   ],
   "source": [
    "#mean\n",
    "df.mean(axis=1)"
   ]
  },
  {
   "cell_type": "code",
   "execution_count": 11,
   "id": "dadc47a4-4f5e-4bfb-95fd-5fefa37e50fc",
   "metadata": {},
   "outputs": [
    {
     "data": {
      "text/plain": [
       "AT1      9.000000\n",
       "AT2      8.000000\n",
       "AT3      8.166667\n",
       "AT4      8.833333\n",
       "MID1    12.500000\n",
       "MID2    13.666667\n",
       "dtype: float64"
      ]
     },
     "execution_count": 11,
     "metadata": {},
     "output_type": "execute_result"
    }
   ],
   "source": [
    "df.mean()"
   ]
  },
  {
   "cell_type": "code",
   "execution_count": 12,
   "id": "e14fb32f-73db-4cd8-b176-e3db076eec28",
   "metadata": {},
   "outputs": [
    {
     "data": {
      "text/plain": [
       "rakshi      9\n",
       "sri         8\n",
       "pandu       7\n",
       "meghaana    7\n",
       "cherry      5\n",
       "gayi        7\n",
       "dtype: int64"
      ]
     },
     "execution_count": 12,
     "metadata": {},
     "output_type": "execute_result"
    }
   ],
   "source": [
    "df.min(axis=1)"
   ]
  },
  {
   "cell_type": "code",
   "execution_count": 14,
   "id": "8b271a69-8c07-4c5e-a8b5-875c6f554734",
   "metadata": {},
   "outputs": [
    {
     "data": {
      "text/plain": [
       "rakshi      15\n",
       "sri         15\n",
       "pandu       15\n",
       "meghaana    14\n",
       "cherry      13\n",
       "gayi        12\n",
       "dtype: int64"
      ]
     },
     "execution_count": 14,
     "metadata": {},
     "output_type": "execute_result"
    }
   ],
   "source": [
    "#max\n",
    "df.max(axis=1)"
   ]
  },
  {
   "cell_type": "code",
   "execution_count": 15,
   "id": "fb0e8445-357c-4790-8582-8d516bd69656",
   "metadata": {},
   "outputs": [
    {
     "data": {
      "text/plain": [
       "rakshi      10.0\n",
       "sri          9.0\n",
       "pandu        9.0\n",
       "meghaana     9.0\n",
       "cherry       9.5\n",
       "gayi         9.5\n",
       "dtype: float64"
      ]
     },
     "execution_count": 15,
     "metadata": {},
     "output_type": "execute_result"
    }
   ],
   "source": [
    "#median\n",
    "df.median(axis=1)"
   ]
  },
  {
   "cell_type": "code",
   "execution_count": 16,
   "id": "156bc60b-86a7-4b30-8b74-dc6e892ee9c5",
   "metadata": {},
   "outputs": [
    {
     "data": {
      "text/html": [
       "<div>\n",
       "<style scoped>\n",
       "    .dataframe tbody tr th:only-of-type {\n",
       "        vertical-align: middle;\n",
       "    }\n",
       "\n",
       "    .dataframe tbody tr th {\n",
       "        vertical-align: top;\n",
       "    }\n",
       "\n",
       "    .dataframe thead th {\n",
       "        text-align: right;\n",
       "    }\n",
       "</style>\n",
       "<table border=\"1\" class=\"dataframe\">\n",
       "  <thead>\n",
       "    <tr style=\"text-align: right;\">\n",
       "      <th></th>\n",
       "      <th>0</th>\n",
       "      <th>1</th>\n",
       "      <th>2</th>\n",
       "      <th>3</th>\n",
       "      <th>4</th>\n",
       "      <th>5</th>\n",
       "    </tr>\n",
       "  </thead>\n",
       "  <tbody>\n",
       "    <tr>\n",
       "      <th>rakshi</th>\n",
       "      <td>9.0</td>\n",
       "      <td>10.0</td>\n",
       "      <td>NaN</td>\n",
       "      <td>NaN</td>\n",
       "      <td>NaN</td>\n",
       "      <td>NaN</td>\n",
       "    </tr>\n",
       "    <tr>\n",
       "      <th>sri</th>\n",
       "      <td>8.0</td>\n",
       "      <td>NaN</td>\n",
       "      <td>NaN</td>\n",
       "      <td>NaN</td>\n",
       "      <td>NaN</td>\n",
       "      <td>NaN</td>\n",
       "    </tr>\n",
       "    <tr>\n",
       "      <th>pandu</th>\n",
       "      <td>9.0</td>\n",
       "      <td>NaN</td>\n",
       "      <td>NaN</td>\n",
       "      <td>NaN</td>\n",
       "      <td>NaN</td>\n",
       "      <td>NaN</td>\n",
       "    </tr>\n",
       "    <tr>\n",
       "      <th>meghaana</th>\n",
       "      <td>7.0</td>\n",
       "      <td>NaN</td>\n",
       "      <td>NaN</td>\n",
       "      <td>NaN</td>\n",
       "      <td>NaN</td>\n",
       "      <td>NaN</td>\n",
       "    </tr>\n",
       "    <tr>\n",
       "      <th>cherry</th>\n",
       "      <td>5.0</td>\n",
       "      <td>8.0</td>\n",
       "      <td>9.0</td>\n",
       "      <td>10.0</td>\n",
       "      <td>12.0</td>\n",
       "      <td>13.0</td>\n",
       "    </tr>\n",
       "    <tr>\n",
       "      <th>gayi</th>\n",
       "      <td>9.0</td>\n",
       "      <td>10.0</td>\n",
       "      <td>NaN</td>\n",
       "      <td>NaN</td>\n",
       "      <td>NaN</td>\n",
       "      <td>NaN</td>\n",
       "    </tr>\n",
       "  </tbody>\n",
       "</table>\n",
       "</div>"
      ],
      "text/plain": [
       "            0     1    2     3     4     5\n",
       "rakshi    9.0  10.0  NaN   NaN   NaN   NaN\n",
       "sri       8.0   NaN  NaN   NaN   NaN   NaN\n",
       "pandu     9.0   NaN  NaN   NaN   NaN   NaN\n",
       "meghaana  7.0   NaN  NaN   NaN   NaN   NaN\n",
       "cherry    5.0   8.0  9.0  10.0  12.0  13.0\n",
       "gayi      9.0  10.0  NaN   NaN   NaN   NaN"
      ]
     },
     "execution_count": 16,
     "metadata": {},
     "output_type": "execute_result"
    }
   ],
   "source": [
    "#mode\n",
    "df.mode(axis=1)"
   ]
  },
  {
   "cell_type": "code",
   "execution_count": 17,
   "id": "fea0ab07-afcb-4a2c-b712-500aeac12d67",
   "metadata": {},
   "outputs": [
    {
     "data": {
      "text/plain": [
       "rakshi      2.449490\n",
       "sri         3.209361\n",
       "pandu       3.125167\n",
       "meghaana    2.738613\n",
       "cherry      2.880972\n",
       "gayi        1.643168\n",
       "dtype: float64"
      ]
     },
     "execution_count": 17,
     "metadata": {},
     "output_type": "execute_result"
    }
   ],
   "source": [
    "#standared deviation\n",
    "df.std(axis=1)"
   ]
  },
  {
   "cell_type": "code",
   "execution_count": 18,
   "id": "483ac3d1-fa9d-4760-80a6-b53d4e89d2fa",
   "metadata": {},
   "outputs": [
    {
     "data": {
      "text/plain": [
       "rakshi       6.000000\n",
       "sri         10.300000\n",
       "pandu        9.766667\n",
       "meghaana     7.500000\n",
       "cherry       8.300000\n",
       "gayi         2.700000\n",
       "dtype: float64"
      ]
     },
     "execution_count": 18,
     "metadata": {},
     "output_type": "execute_result"
    }
   ],
   "source": [
    "#variance\n",
    "df.var(axis=1)"
   ]
  },
  {
   "cell_type": "code",
   "execution_count": 20,
   "id": "4e9ca2d3-5229-4e42-ae89-6330eda30770",
   "metadata": {},
   "outputs": [
    {
     "data": {
      "text/plain": [
       "AT1     54\n",
       "AT2     48\n",
       "AT3     49\n",
       "AT4     53\n",
       "MID1    75\n",
       "MID2    82\n",
       "dtype: int64"
      ]
     },
     "execution_count": 20,
     "metadata": {},
     "output_type": "execute_result"
    }
   ],
   "source": [
    "#operations on individual cols\n",
    "#sum\n",
    "df.sum()"
   ]
  },
  {
   "cell_type": "code",
   "execution_count": 21,
   "id": "039c4adb-37b4-45bf-8388-b5b14a8b0787",
   "metadata": {},
   "outputs": [
    {
     "data": {
      "text/plain": [
       "AT1      8\n",
       "AT2      5\n",
       "AT3      7\n",
       "AT4      7\n",
       "MID1    10\n",
       "MID2    12\n",
       "dtype: int64"
      ]
     },
     "execution_count": 21,
     "metadata": {},
     "output_type": "execute_result"
    }
   ],
   "source": [
    "#min\n",
    "df.min()"
   ]
  },
  {
   "cell_type": "code",
   "execution_count": 22,
   "id": "234168ac-2eaa-495e-ac13-cc8e8da493d9",
   "metadata": {},
   "outputs": [
    {
     "data": {
      "text/plain": [
       "AT1     10\n",
       "AT2     10\n",
       "AT3     10\n",
       "AT4     10\n",
       "MID1    15\n",
       "MID2    15\n",
       "dtype: int64"
      ]
     },
     "execution_count": 22,
     "metadata": {},
     "output_type": "execute_result"
    }
   ],
   "source": [
    "#max\n",
    "df.max()"
   ]
  },
  {
   "cell_type": "code",
   "execution_count": 23,
   "id": "22d88ae1-d411-4cb2-988a-e7eca86d718d",
   "metadata": {},
   "outputs": [
    {
     "data": {
      "text/plain": [
       "AT1      9.000000\n",
       "AT2      8.000000\n",
       "AT3      8.166667\n",
       "AT4      8.833333\n",
       "MID1    12.500000\n",
       "MID2    13.666667\n",
       "dtype: float64"
      ]
     },
     "execution_count": 23,
     "metadata": {},
     "output_type": "execute_result"
    }
   ],
   "source": [
    "#mean\n",
    "df.mean()"
   ]
  },
  {
   "cell_type": "code",
   "execution_count": 24,
   "id": "6cc28731-4dff-464e-ac69-44fbb006bb6e",
   "metadata": {},
   "outputs": [
    {
     "data": {
      "text/html": [
       "<div>\n",
       "<style scoped>\n",
       "    .dataframe tbody tr th:only-of-type {\n",
       "        vertical-align: middle;\n",
       "    }\n",
       "\n",
       "    .dataframe tbody tr th {\n",
       "        vertical-align: top;\n",
       "    }\n",
       "\n",
       "    .dataframe thead th {\n",
       "        text-align: right;\n",
       "    }\n",
       "</style>\n",
       "<table border=\"1\" class=\"dataframe\">\n",
       "  <thead>\n",
       "    <tr style=\"text-align: right;\">\n",
       "      <th></th>\n",
       "      <th>AT1</th>\n",
       "      <th>AT2</th>\n",
       "      <th>AT3</th>\n",
       "      <th>AT4</th>\n",
       "      <th>MID1</th>\n",
       "      <th>MID2</th>\n",
       "    </tr>\n",
       "  </thead>\n",
       "  <tbody>\n",
       "    <tr>\n",
       "      <th>0</th>\n",
       "      <td>8.0</td>\n",
       "      <td>9.0</td>\n",
       "      <td>7.0</td>\n",
       "      <td>9.0</td>\n",
       "      <td>10</td>\n",
       "      <td>13.0</td>\n",
       "    </tr>\n",
       "    <tr>\n",
       "      <th>1</th>\n",
       "      <td>9.0</td>\n",
       "      <td>NaN</td>\n",
       "      <td>8.0</td>\n",
       "      <td>10.0</td>\n",
       "      <td>11</td>\n",
       "      <td>15.0</td>\n",
       "    </tr>\n",
       "    <tr>\n",
       "      <th>2</th>\n",
       "      <td>10.0</td>\n",
       "      <td>NaN</td>\n",
       "      <td>NaN</td>\n",
       "      <td>NaN</td>\n",
       "      <td>12</td>\n",
       "      <td>NaN</td>\n",
       "    </tr>\n",
       "    <tr>\n",
       "      <th>3</th>\n",
       "      <td>NaN</td>\n",
       "      <td>NaN</td>\n",
       "      <td>NaN</td>\n",
       "      <td>NaN</td>\n",
       "      <td>13</td>\n",
       "      <td>NaN</td>\n",
       "    </tr>\n",
       "    <tr>\n",
       "      <th>4</th>\n",
       "      <td>NaN</td>\n",
       "      <td>NaN</td>\n",
       "      <td>NaN</td>\n",
       "      <td>NaN</td>\n",
       "      <td>14</td>\n",
       "      <td>NaN</td>\n",
       "    </tr>\n",
       "    <tr>\n",
       "      <th>5</th>\n",
       "      <td>NaN</td>\n",
       "      <td>NaN</td>\n",
       "      <td>NaN</td>\n",
       "      <td>NaN</td>\n",
       "      <td>15</td>\n",
       "      <td>NaN</td>\n",
       "    </tr>\n",
       "  </tbody>\n",
       "</table>\n",
       "</div>"
      ],
      "text/plain": [
       "    AT1  AT2  AT3   AT4  MID1  MID2\n",
       "0   8.0  9.0  7.0   9.0    10  13.0\n",
       "1   9.0  NaN  8.0  10.0    11  15.0\n",
       "2  10.0  NaN  NaN   NaN    12   NaN\n",
       "3   NaN  NaN  NaN   NaN    13   NaN\n",
       "4   NaN  NaN  NaN   NaN    14   NaN\n",
       "5   NaN  NaN  NaN   NaN    15   NaN"
      ]
     },
     "execution_count": 24,
     "metadata": {},
     "output_type": "execute_result"
    }
   ],
   "source": [
    "#mode\n",
    "df.mode()"
   ]
  },
  {
   "cell_type": "code",
   "execution_count": 25,
   "id": "c0ed2e01-86a3-4ae0-b63d-df7894dbae12",
   "metadata": {},
   "outputs": [
    {
     "data": {
      "text/plain": [
       "AT1     0.800000\n",
       "AT2     3.200000\n",
       "AT3     1.366667\n",
       "AT4     1.366667\n",
       "MID1    3.500000\n",
       "MID2    1.466667\n",
       "dtype: float64"
      ]
     },
     "execution_count": 25,
     "metadata": {},
     "output_type": "execute_result"
    }
   ],
   "source": [
    "#variance\n",
    "df.var()"
   ]
  },
  {
   "cell_type": "code",
   "execution_count": 26,
   "id": "1b420d34-2b98-49c1-8061-3e7f363d7e71",
   "metadata": {},
   "outputs": [
    {
     "data": {
      "text/plain": [
       "AT1     0.894427\n",
       "AT2     1.788854\n",
       "AT3     1.169045\n",
       "AT4     1.169045\n",
       "MID1    1.870829\n",
       "MID2    1.211060\n",
       "dtype: float64"
      ]
     },
     "execution_count": 26,
     "metadata": {},
     "output_type": "execute_result"
    }
   ],
   "source": [
    "#standared deviation\n",
    "df.std()"
   ]
  },
  {
   "cell_type": "code",
   "execution_count": 27,
   "id": "2e4b5560-c3d8-4f3a-9556-6cc8c822f422",
   "metadata": {},
   "outputs": [
    {
     "data": {
      "text/html": [
       "<div>\n",
       "<style scoped>\n",
       "    .dataframe tbody tr th:only-of-type {\n",
       "        vertical-align: middle;\n",
       "    }\n",
       "\n",
       "    .dataframe tbody tr th {\n",
       "        vertical-align: top;\n",
       "    }\n",
       "\n",
       "    .dataframe thead th {\n",
       "        text-align: right;\n",
       "    }\n",
       "</style>\n",
       "<table border=\"1\" class=\"dataframe\">\n",
       "  <thead>\n",
       "    <tr style=\"text-align: right;\">\n",
       "      <th></th>\n",
       "      <th>AT1</th>\n",
       "      <th>AT2</th>\n",
       "      <th>AT3</th>\n",
       "      <th>AT4</th>\n",
       "      <th>MID1</th>\n",
       "      <th>MID2</th>\n",
       "    </tr>\n",
       "  </thead>\n",
       "  <tbody>\n",
       "    <tr>\n",
       "      <th>count</th>\n",
       "      <td>6.000000</td>\n",
       "      <td>6.000000</td>\n",
       "      <td>6.000000</td>\n",
       "      <td>6.000000</td>\n",
       "      <td>6.000000</td>\n",
       "      <td>6.000000</td>\n",
       "    </tr>\n",
       "    <tr>\n",
       "      <th>mean</th>\n",
       "      <td>9.000000</td>\n",
       "      <td>8.000000</td>\n",
       "      <td>8.166667</td>\n",
       "      <td>8.833333</td>\n",
       "      <td>12.500000</td>\n",
       "      <td>13.666667</td>\n",
       "    </tr>\n",
       "    <tr>\n",
       "      <th>std</th>\n",
       "      <td>0.894427</td>\n",
       "      <td>1.788854</td>\n",
       "      <td>1.169045</td>\n",
       "      <td>1.169045</td>\n",
       "      <td>1.870829</td>\n",
       "      <td>1.211060</td>\n",
       "    </tr>\n",
       "    <tr>\n",
       "      <th>min</th>\n",
       "      <td>8.000000</td>\n",
       "      <td>5.000000</td>\n",
       "      <td>7.000000</td>\n",
       "      <td>7.000000</td>\n",
       "      <td>10.000000</td>\n",
       "      <td>12.000000</td>\n",
       "    </tr>\n",
       "    <tr>\n",
       "      <th>25%</th>\n",
       "      <td>8.250000</td>\n",
       "      <td>7.250000</td>\n",
       "      <td>7.250000</td>\n",
       "      <td>8.250000</td>\n",
       "      <td>11.250000</td>\n",
       "      <td>13.000000</td>\n",
       "    </tr>\n",
       "    <tr>\n",
       "      <th>50%</th>\n",
       "      <td>9.000000</td>\n",
       "      <td>8.500000</td>\n",
       "      <td>8.000000</td>\n",
       "      <td>9.000000</td>\n",
       "      <td>12.500000</td>\n",
       "      <td>13.500000</td>\n",
       "    </tr>\n",
       "    <tr>\n",
       "      <th>75%</th>\n",
       "      <td>9.750000</td>\n",
       "      <td>9.000000</td>\n",
       "      <td>8.750000</td>\n",
       "      <td>9.750000</td>\n",
       "      <td>13.750000</td>\n",
       "      <td>14.750000</td>\n",
       "    </tr>\n",
       "    <tr>\n",
       "      <th>max</th>\n",
       "      <td>10.000000</td>\n",
       "      <td>10.000000</td>\n",
       "      <td>10.000000</td>\n",
       "      <td>10.000000</td>\n",
       "      <td>15.000000</td>\n",
       "      <td>15.000000</td>\n",
       "    </tr>\n",
       "  </tbody>\n",
       "</table>\n",
       "</div>"
      ],
      "text/plain": [
       "             AT1        AT2        AT3        AT4       MID1       MID2\n",
       "count   6.000000   6.000000   6.000000   6.000000   6.000000   6.000000\n",
       "mean    9.000000   8.000000   8.166667   8.833333  12.500000  13.666667\n",
       "std     0.894427   1.788854   1.169045   1.169045   1.870829   1.211060\n",
       "min     8.000000   5.000000   7.000000   7.000000  10.000000  12.000000\n",
       "25%     8.250000   7.250000   7.250000   8.250000  11.250000  13.000000\n",
       "50%     9.000000   8.500000   8.000000   9.000000  12.500000  13.500000\n",
       "75%     9.750000   9.000000   8.750000   9.750000  13.750000  14.750000\n",
       "max    10.000000  10.000000  10.000000  10.000000  15.000000  15.000000"
      ]
     },
     "execution_count": 27,
     "metadata": {},
     "output_type": "execute_result"
    }
   ],
   "source": [
    "#describe\n",
    "df.describe()"
   ]
  },
  {
   "cell_type": "code",
   "execution_count": 30,
   "id": "574a8db4-d442-4ec9-82c1-7b943821aa33",
   "metadata": {},
   "outputs": [],
   "source": [
    "#expoting file\n",
    "df.to_excel(\"/home/rguktrkvalley/Desktop/labd.xlsx\")"
   ]
  },
  {
   "cell_type": "code",
   "execution_count": 31,
   "id": "f777ddca-bee7-429c-9a73-2724ba128258",
   "metadata": {},
   "outputs": [],
   "source": [
    "#grouping\n"
   ]
  },
  {
   "cell_type": "code",
   "execution_count": 33,
   "id": "6a7f2075-fb5b-43ea-988d-57e83cda7b5d",
   "metadata": {},
   "outputs": [
    {
     "data": {
      "text/html": [
       "<div>\n",
       "<style scoped>\n",
       "    .dataframe tbody tr th:only-of-type {\n",
       "        vertical-align: middle;\n",
       "    }\n",
       "\n",
       "    .dataframe tbody tr th {\n",
       "        vertical-align: top;\n",
       "    }\n",
       "\n",
       "    .dataframe thead th {\n",
       "        text-align: right;\n",
       "    }\n",
       "</style>\n",
       "<table border=\"1\" class=\"dataframe\">\n",
       "  <thead>\n",
       "    <tr style=\"text-align: right;\">\n",
       "      <th></th>\n",
       "      <th>NAME</th>\n",
       "      <th>marks</th>\n",
       "      <th>dept</th>\n",
       "      <th>gender</th>\n",
       "    </tr>\n",
       "  </thead>\n",
       "  <tbody>\n",
       "    <tr>\n",
       "      <th>0</th>\n",
       "      <td>rakshi</td>\n",
       "      <td>90</td>\n",
       "      <td>CSE</td>\n",
       "      <td>f</td>\n",
       "    </tr>\n",
       "    <tr>\n",
       "      <th>1</th>\n",
       "      <td>sri</td>\n",
       "      <td>92</td>\n",
       "      <td>ECE</td>\n",
       "      <td>m</td>\n",
       "    </tr>\n",
       "    <tr>\n",
       "      <th>2</th>\n",
       "      <td>pandu</td>\n",
       "      <td>95</td>\n",
       "      <td>ECE</td>\n",
       "      <td>m</td>\n",
       "    </tr>\n",
       "    <tr>\n",
       "      <th>3</th>\n",
       "      <td>gayi</td>\n",
       "      <td>99</td>\n",
       "      <td>CIVIL</td>\n",
       "      <td>f</td>\n",
       "    </tr>\n",
       "    <tr>\n",
       "      <th>4</th>\n",
       "      <td>megh</td>\n",
       "      <td>91</td>\n",
       "      <td>CSE</td>\n",
       "      <td>f</td>\n",
       "    </tr>\n",
       "  </tbody>\n",
       "</table>\n",
       "</div>"
      ],
      "text/plain": [
       "     NAME  marks   dept gender\n",
       "0  rakshi     90    CSE      f\n",
       "1     sri     92    ECE      m\n",
       "2   pandu     95    ECE      m\n",
       "3    gayi     99  CIVIL      f\n",
       "4    megh     91    CSE      f"
      ]
     },
     "execution_count": 33,
     "metadata": {},
     "output_type": "execute_result"
    }
   ],
   "source": [
    "import pandas as pd\n",
    "df=pd.DataFrame({\"NAME\":[\"rakshi\",\"sri\",\"pandu\",\"gayi\",\"megh\"],\"marks\":[90,92,95,99,91],\"dept\":[\"CSE\",\"ECE\",\"ECE\",\"CIVIL\",\"CSE\"],\"gender\":[\"f\",\"m\",\"m\",\"f\",\"f\"]})\n",
    "df"
   ]
  },
  {
   "cell_type": "code",
   "execution_count": 38,
   "id": "71cb553d-fc28-4ecc-a2d6-1a6b09350a53",
   "metadata": {},
   "outputs": [
    {
     "data": {
      "text/html": [
       "<div>\n",
       "<style scoped>\n",
       "    .dataframe tbody tr th:only-of-type {\n",
       "        vertical-align: middle;\n",
       "    }\n",
       "\n",
       "    .dataframe tbody tr th {\n",
       "        vertical-align: top;\n",
       "    }\n",
       "\n",
       "    .dataframe thead th {\n",
       "        text-align: right;\n",
       "    }\n",
       "</style>\n",
       "<table border=\"1\" class=\"dataframe\">\n",
       "  <thead>\n",
       "    <tr style=\"text-align: right;\">\n",
       "      <th></th>\n",
       "      <th>NAME</th>\n",
       "      <th>marks</th>\n",
       "      <th>gender</th>\n",
       "    </tr>\n",
       "    <tr>\n",
       "      <th>dept</th>\n",
       "      <th></th>\n",
       "      <th></th>\n",
       "      <th></th>\n",
       "    </tr>\n",
       "  </thead>\n",
       "  <tbody>\n",
       "    <tr>\n",
       "      <th>CIVIL</th>\n",
       "      <td>gayi</td>\n",
       "      <td>99</td>\n",
       "      <td>f</td>\n",
       "    </tr>\n",
       "    <tr>\n",
       "      <th>CSE</th>\n",
       "      <td>rakshi</td>\n",
       "      <td>90</td>\n",
       "      <td>f</td>\n",
       "    </tr>\n",
       "    <tr>\n",
       "      <th>ECE</th>\n",
       "      <td>sri</td>\n",
       "      <td>92</td>\n",
       "      <td>m</td>\n",
       "    </tr>\n",
       "  </tbody>\n",
       "</table>\n",
       "</div>"
      ],
      "text/plain": [
       "         NAME  marks gender\n",
       "dept                       \n",
       "CIVIL    gayi     99      f\n",
       "CSE    rakshi     90      f\n",
       "ECE       sri     92      m"
      ]
     },
     "execution_count": 38,
     "metadata": {},
     "output_type": "execute_result"
    }
   ],
   "source": [
    "#grouping\n",
    "g=df.groupby(\"dept\")\n",
    "g.first()"
   ]
  },
  {
   "cell_type": "code",
   "execution_count": 39,
   "id": "266eb253-348d-4be7-bbda-286609c3cd48",
   "metadata": {},
   "outputs": [
    {
     "data": {
      "text/plain": [
       "dept\n",
       "CIVIL    1\n",
       "CSE      2\n",
       "ECE      2\n",
       "dtype: int64"
      ]
     },
     "execution_count": 39,
     "metadata": {},
     "output_type": "execute_result"
    }
   ],
   "source": [
    "#operarions\n",
    "#size of each group\n",
    "g.size()"
   ]
  },
  {
   "cell_type": "code",
   "execution_count": 42,
   "id": "5d499c7b-2362-496c-9e3a-9497db61e154",
   "metadata": {},
   "outputs": [
    {
     "data": {
      "text/html": [
       "<div>\n",
       "<style scoped>\n",
       "    .dataframe tbody tr th:only-of-type {\n",
       "        vertical-align: middle;\n",
       "    }\n",
       "\n",
       "    .dataframe tbody tr th {\n",
       "        vertical-align: top;\n",
       "    }\n",
       "\n",
       "    .dataframe thead th {\n",
       "        text-align: right;\n",
       "    }\n",
       "</style>\n",
       "<table border=\"1\" class=\"dataframe\">\n",
       "  <thead>\n",
       "    <tr style=\"text-align: right;\">\n",
       "      <th></th>\n",
       "      <th>NAME</th>\n",
       "      <th>marks</th>\n",
       "      <th>dept</th>\n",
       "      <th>gender</th>\n",
       "    </tr>\n",
       "  </thead>\n",
       "  <tbody>\n",
       "    <tr>\n",
       "      <th>0</th>\n",
       "      <td>rakshi</td>\n",
       "      <td>90</td>\n",
       "      <td>CSE</td>\n",
       "      <td>f</td>\n",
       "    </tr>\n",
       "    <tr>\n",
       "      <th>4</th>\n",
       "      <td>megh</td>\n",
       "      <td>91</td>\n",
       "      <td>CSE</td>\n",
       "      <td>f</td>\n",
       "    </tr>\n",
       "  </tbody>\n",
       "</table>\n",
       "</div>"
      ],
      "text/plain": [
       "     NAME  marks dept gender\n",
       "0  rakshi     90  CSE      f\n",
       "4    megh     91  CSE      f"
      ]
     },
     "execution_count": 42,
     "metadata": {},
     "output_type": "execute_result"
    }
   ],
   "source": [
    "g.get_group(\"CSE\")"
   ]
  },
  {
   "cell_type": "code",
   "execution_count": 43,
   "id": "47585b61-d727-4871-ab51-606d22ccf5ed",
   "metadata": {},
   "outputs": [
    {
     "data": {
      "text/html": [
       "<div>\n",
       "<style scoped>\n",
       "    .dataframe tbody tr th:only-of-type {\n",
       "        vertical-align: middle;\n",
       "    }\n",
       "\n",
       "    .dataframe tbody tr th {\n",
       "        vertical-align: top;\n",
       "    }\n",
       "\n",
       "    .dataframe thead th {\n",
       "        text-align: right;\n",
       "    }\n",
       "</style>\n",
       "<table border=\"1\" class=\"dataframe\">\n",
       "  <thead>\n",
       "    <tr style=\"text-align: right;\">\n",
       "      <th></th>\n",
       "      <th>NAME</th>\n",
       "      <th>marks</th>\n",
       "      <th>gender</th>\n",
       "    </tr>\n",
       "    <tr>\n",
       "      <th>dept</th>\n",
       "      <th></th>\n",
       "      <th></th>\n",
       "      <th></th>\n",
       "    </tr>\n",
       "  </thead>\n",
       "  <tbody>\n",
       "    <tr>\n",
       "      <th>CIVIL</th>\n",
       "      <td>gayi</td>\n",
       "      <td>99</td>\n",
       "      <td>f</td>\n",
       "    </tr>\n",
       "    <tr>\n",
       "      <th>CSE</th>\n",
       "      <td>rakshimegh</td>\n",
       "      <td>181</td>\n",
       "      <td>ff</td>\n",
       "    </tr>\n",
       "    <tr>\n",
       "      <th>ECE</th>\n",
       "      <td>sripandu</td>\n",
       "      <td>187</td>\n",
       "      <td>mm</td>\n",
       "    </tr>\n",
       "  </tbody>\n",
       "</table>\n",
       "</div>"
      ],
      "text/plain": [
       "             NAME  marks gender\n",
       "dept                           \n",
       "CIVIL        gayi     99      f\n",
       "CSE    rakshimegh    181     ff\n",
       "ECE      sripandu    187     mm"
      ]
     },
     "execution_count": 43,
     "metadata": {},
     "output_type": "execute_result"
    }
   ],
   "source": [
    "#aggrigate functions\n",
    "g.agg(\"sum\")"
   ]
  },
  {
   "cell_type": "code",
   "execution_count": 45,
   "id": "8464ceb9-3aef-4374-8477-721f3518bbe6",
   "metadata": {},
   "outputs": [
    {
     "data": {
      "text/html": [
       "<div>\n",
       "<style scoped>\n",
       "    .dataframe tbody tr th:only-of-type {\n",
       "        vertical-align: middle;\n",
       "    }\n",
       "\n",
       "    .dataframe tbody tr th {\n",
       "        vertical-align: top;\n",
       "    }\n",
       "\n",
       "    .dataframe thead tr th {\n",
       "        text-align: left;\n",
       "    }\n",
       "\n",
       "    .dataframe thead tr:last-of-type th {\n",
       "        text-align: right;\n",
       "    }\n",
       "</style>\n",
       "<table border=\"1\" class=\"dataframe\">\n",
       "  <thead>\n",
       "    <tr>\n",
       "      <th></th>\n",
       "      <th colspan=\"2\" halign=\"left\">NAME</th>\n",
       "      <th colspan=\"2\" halign=\"left\">marks</th>\n",
       "      <th colspan=\"2\" halign=\"left\">gender</th>\n",
       "    </tr>\n",
       "    <tr>\n",
       "      <th></th>\n",
       "      <th>sum</th>\n",
       "      <th>min</th>\n",
       "      <th>sum</th>\n",
       "      <th>min</th>\n",
       "      <th>sum</th>\n",
       "      <th>min</th>\n",
       "    </tr>\n",
       "    <tr>\n",
       "      <th>dept</th>\n",
       "      <th></th>\n",
       "      <th></th>\n",
       "      <th></th>\n",
       "      <th></th>\n",
       "      <th></th>\n",
       "      <th></th>\n",
       "    </tr>\n",
       "  </thead>\n",
       "  <tbody>\n",
       "    <tr>\n",
       "      <th>CIVIL</th>\n",
       "      <td>gayi</td>\n",
       "      <td>gayi</td>\n",
       "      <td>99</td>\n",
       "      <td>99</td>\n",
       "      <td>f</td>\n",
       "      <td>f</td>\n",
       "    </tr>\n",
       "    <tr>\n",
       "      <th>CSE</th>\n",
       "      <td>rakshimegh</td>\n",
       "      <td>megh</td>\n",
       "      <td>181</td>\n",
       "      <td>90</td>\n",
       "      <td>ff</td>\n",
       "      <td>f</td>\n",
       "    </tr>\n",
       "    <tr>\n",
       "      <th>ECE</th>\n",
       "      <td>sripandu</td>\n",
       "      <td>pandu</td>\n",
       "      <td>187</td>\n",
       "      <td>92</td>\n",
       "      <td>mm</td>\n",
       "      <td>m</td>\n",
       "    </tr>\n",
       "  </tbody>\n",
       "</table>\n",
       "</div>"
      ],
      "text/plain": [
       "             NAME        marks     gender    \n",
       "              sum    min   sum min    sum min\n",
       "dept                                         \n",
       "CIVIL        gayi   gayi    99  99      f   f\n",
       "CSE    rakshimegh   megh   181  90     ff   f\n",
       "ECE      sripandu  pandu   187  92     mm   m"
      ]
     },
     "execution_count": 45,
     "metadata": {},
     "output_type": "execute_result"
    }
   ],
   "source": [
    "g.agg([\"sum\",\"min\"])\n"
   ]
  },
  {
   "cell_type": "code",
   "execution_count": null,
   "id": "acba5ee1-c4a5-4a90-9b0c-5ade38d4c4ec",
   "metadata": {},
   "outputs": [],
   "source": [
    "#correlation\n",
    "import pandas as pd\n",
    "data={\"feature1\":[1,2,3,4,5],\n",
    "     \"feature2\":[5,4,3,2,1],\n",
    "     \"feature3\":[3,1,5,4,2]}\n",
    "df=pd.DataFrame(data)\n",
    "df.corr()"
   ]
  },
  {
   "cell_type": "code",
   "execution_count": null,
   "id": "20231a09-b7d1-4a74-8a9b-1ee96b4007f2",
   "metadata": {},
   "outputs": [],
   "source": [
    "pip install scipy"
   ]
  },
  {
   "cell_type": "code",
   "execution_count": null,
   "id": "8af58b34-2a94-43b8-98c6-e8128ec4dd37",
   "metadata": {},
   "outputs": [],
   "source": [
    "import scipy.stats as stats"
   ]
  },
  {
   "cell_type": "code",
   "execution_count": null,
   "id": "ee5084fc-221e-432c-8bd8-1d9f484e2a37",
   "metadata": {},
   "outputs": [],
   "source": [
    "group1=[68,72,65,74,71]\n",
    "group2=[60,65,68,63,70]\n",
    "group3=[75,78,82,79,85]"
   ]
  },
  {
   "cell_type": "code",
   "execution_count": null,
   "id": "16a0d32e-e0f5-4ab5-a8b7-2c23e7763013",
   "metadata": {},
   "outputs": [],
   "source": [
    "f_statistic,p_value=stats.f_oneway(group1,group2,group3)"
   ]
  },
  {
   "cell_type": "code",
   "execution_count": null,
   "id": "c01c261e-42f4-453d-be08-8ce1329bcdd3",
   "metadata": {},
   "outputs": [],
   "source": [
    "print(\"F-statistic: \",f_statistic)"
   ]
  },
  {
   "cell_type": "code",
   "execution_count": null,
   "id": "a2d6eb8e-40f6-4244-b390-3ffb09fbe822",
   "metadata": {},
   "outputs": [],
   "source": [
    "print(\"p-value:\",p_value)"
   ]
  },
  {
   "cell_type": "code",
   "execution_count": null,
   "id": "87e4e700-b81f-4263-b366-4b3bdd82b2b8",
   "metadata": {},
   "outputs": [],
   "source": []
  }
 ],
 "metadata": {
  "kernelspec": {
   "display_name": "Python 3 (ipykernel)",
   "language": "python",
   "name": "python3"
  },
  "language_info": {
   "codemirror_mode": {
    "name": "ipython",
    "version": 3
   },
   "file_extension": ".py",
   "mimetype": "text/x-python",
   "name": "python",
   "nbconvert_exporter": "python",
   "pygments_lexer": "ipython3",
   "version": "3.8.10"
  }
 },
 "nbformat": 4,
 "nbformat_minor": 5
}
