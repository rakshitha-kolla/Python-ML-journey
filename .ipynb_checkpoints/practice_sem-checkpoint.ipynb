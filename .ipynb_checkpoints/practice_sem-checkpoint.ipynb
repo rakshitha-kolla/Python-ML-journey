{
 "cells": [
  {
   "cell_type": "code",
   "execution_count": 36,
   "id": "07cc9cb2-214e-4c89-9a2b-4c519f931ab5",
   "metadata": {},
   "outputs": [
    {
     "name": "stdout",
     "output_type": "stream",
     "text": [
      "print(\"hello\") good morning \"\"'\n",
      "i am rakshi 10 good\n",
      "hellogood\n"
     ]
    },
    {
     "name": "stdin",
     "output_type": "stream",
     "text": [
      "enetr a 12\n",
      " 12\n",
      " 1123\n",
      " 123\n"
     ]
    },
    {
     "name": "stdout",
     "output_type": "stream",
     "text": [
      "12 12 1123.0 True\n"
     ]
    },
    {
     "ename": "AttributeError",
     "evalue": "'str' object has no attribute 'length'",
     "output_type": "error",
     "traceback": [
      "\u001b[0;31m---------------------------------------------------------------------------\u001b[0m",
      "\u001b[0;31mAttributeError\u001b[0m                            Traceback (most recent call last)",
      "Cell \u001b[0;32mIn[36], line 10\u001b[0m\n\u001b[1;32m      8\u001b[0m d\u001b[38;5;241m=\u001b[39m\u001b[38;5;28mbool\u001b[39m(\u001b[38;5;28minput\u001b[39m());\n\u001b[1;32m      9\u001b[0m \u001b[38;5;28mprint\u001b[39m(a,b,c,d)\n\u001b[0;32m---> 10\u001b[0m \u001b[43mb\u001b[49m\u001b[38;5;241;43m.\u001b[39;49m\u001b[43mlength\u001b[49m\n",
      "\u001b[0;31mAttributeError\u001b[0m: 'str' object has no attribute 'length'"
     ]
    }
   ],
   "source": [
    "print('print(\"hello\") good morning \"\"\\'');\n",
    "a=10;\n",
    "print(\"i am rakshi\",a,\"good\");\n",
    "print(\"hello\"+\"good\")\n",
    "a=int(input(\"enetr a\"));\n",
    "b=input();\n",
    "c=float(input());\n",
    "d=bool(input());\n",
    "print(a,b,c,d)"
   ]
  },
  {
   "cell_type": "code",
   "execution_count": 39,
   "id": "46bf67f0-4504-452a-8f87-29336eb4311c",
   "metadata": {},
   "outputs": [
    {
     "name": "stdout",
     "output_type": "stream",
     "text": [
      "False\n",
      "10 20\n",
      "20\n",
      "5\n"
     ]
    }
   ],
   "source": [
    "a=bool(0);\n",
    "print(a);\n",
    "a,b=10,20;\n",
    "print(a,b);\n",
    "a=b=c=20;\n",
    "print(c)\n",
    "b=\"hello\";\n",
    "#b.length;//'str' object has no attribute 'length'\n",
    "print(len(b));"
   ]
  },
  {
   "cell_type": "code",
   "execution_count": 42,
   "id": "6e50d40d-d755-4569-83ae-a5bf4ba75e32",
   "metadata": {},
   "outputs": [
    {
     "name": "stdout",
     "output_type": "stream",
     "text": [
      "20 10\n",
      "0\n",
      "2.0 2\n"
     ]
    }
   ],
   "source": [
    "a,b=10,20;\n",
    "b,a=a,b;\n",
    "print(a,b);\n",
    "print(a%b);\n",
    "print(a/b,a//b);"
   ]
  },
  {
   "cell_type": "code",
   "execution_count": 142,
   "id": "56657005-55d4-4d6b-9f27-86e40a48fab1",
   "metadata": {},
   "outputs": [
    {
     "name": "stdout",
     "output_type": "stream",
     "text": [
      "{1, 2, 3, 4.5, 'rakshi'}\n",
      "{'k', 'a', 'h', 'r', 'i', 's'}\n",
      "{1, 2}\n",
      "{1, 2, 3, 4.5, 'rakshi', 'kolla'}\n",
      "1\n",
      "{2, 3, 4.5, 'rakshi', 'kolla'}\n",
      "{2, 4.5, 'rakshi', 'kolla'}\n",
      "{4.5, 'rakshi', 'kolla'}\n",
      "{32, 1, 2, 456, 42}\n",
      "{32, 1, 2, 456, 42}\n",
      "{1, 2, 456, 42}\n",
      "{32, 1, 2, 456, 42}\n",
      "{32, 1, 2, 456, 42} {32, 1, 2, 456, 42}\n",
      "{1, 2, 456, 42} {1, 2, 456, 42}\n",
      "501\n",
      "[1, 2, 42, 456]\n",
      "set()\n",
      "{'k', 'a', 'h', 'r', 'i', 's'}\n",
      "{'k', 'a', 'z', 'h', 'r', 'x', 'i', 'y', 'kolla', 's'}\n"
     ]
    }
   ],
   "source": [
    "#set\n",
    "set1={1,2,3,4.5,\"rakshi\"};\n",
    "print(set1);\n",
    "s=\"rakshi\";\n",
    "set2=set(s);\n",
    "print(set2);\n",
    "l={1:\"r\",2:\"k\"};\n",
    "set3=set(l);\n",
    "print(set3);\n",
    "set1.add(\"kolla\");\n",
    "set1.add(3)\n",
    "print(set1)\n",
    "print(set1.pop());\n",
    "print(set1);\n",
    "set1.discard(3);\n",
    "print(set1);\n",
    "set1.remove(2);\n",
    "print(set1);\n",
    "set0={1,2,32,42,456};\n",
    "print(set0);\n",
    "d=set0.copy();\n",
    "print(d);\n",
    "set0.pop();\n",
    "print(set0);\n",
    "print(d);\n",
    "s=d;\n",
    "print(d,s);\n",
    "d.pop();\n",
    "print(d,s);\n",
    "print(sum(d));\n",
    "print(sorted(d));\n",
    "d.clear();\n",
    "print(d);\n",
    "s=\"rakshi\";\n",
    "d=set(s);\n",
    "print(d);\n",
    "d.update([\"kolla\"]);\n",
    "d.update(\"zxy\");\n",
    "print(d);"
   ]
  },
  {
   "cell_type": "code",
   "execution_count": 180,
   "id": "0817379a-e210-44a7-ab9a-a03f91a3526f",
   "metadata": {},
   "outputs": [
    {
     "name": "stdout",
     "output_type": "stream",
     "text": [
      "[1, 2, 3, 'rakshi']\n",
      "[1, 2, 3, 'rakshi', 'r', 'a', 'k', 's', 'h', 'i']\n",
      "[1, 2, 3, 'rakshi', 'r', 'a', 'k', 's', 'h', 'i', 1, 2]\n",
      "[1, 2, 3, 'rakshi', 'r', 'a', 'k', 's', 'h', 'i', 1, 2, {40, 30}]\n",
      "[1, 2, 3, 'rakshi', 'r', 'a', 'k', 's', 'h', 'i', 1, 2, {40, 30}, [1, 2, 'kolla']]\n"
     ]
    }
   ],
   "source": [
    "#list\n",
    "l=[1,2,3]\n",
    "l.append(\"rakshi\");\n",
    "print(l);\n",
    "l.extend(\"rakshi\");\n",
    "print(l);\n",
    "l.extend({1,2});\n",
    "print(l);\n",
    "l.append({30,40});\n",
    "print(l);\n",
    "l.append([1,2,\"kolla\"]);\n",
    "print(l)"
   ]
  },
  {
   "cell_type": "code",
   "execution_count": 144,
   "id": "d12e7934-2687-44c3-91f1-92a7c1e50f5b",
   "metadata": {},
   "outputs": [
    {
     "name": "stdout",
     "output_type": "stream",
     "text": [
      "1\n",
      "[1, 2, 3, 'rakshi', 'r', 'a', 'k', 's', 'h', 'i', 1, 2, {40, 30}, [1, 2, 'kolla']]\n",
      "[1, 2, 3, 'rakshi', 'r', 'a', 'k', 's', 'h', 'i', 1, 2, {40, 30}, [1, 2, 'kolla']]\n",
      "[[1, 2, 'kolla'], {40, 30}, 2, 1, 'i', 'h', 's', 'k', 'a', 'r', 'rakshi', 3, 2, 1]\n",
      "[1, 2, 3, 'rakshi', 'r', 'a', 'k', 's', 'h', 'i', 1, 2, {40, 30}]\n"
     ]
    }
   ],
   "source": [
    "#slicing\n",
    "print(l[0]);\n",
    "print(l[:]);\n",
    "print(l[::]);\n",
    "print(l[::-1]);\n",
    "print(l[:-1:]);"
   ]
  },
  {
   "cell_type": "code",
   "execution_count": 181,
   "id": "76c653a3-8afe-4cb8-9d19-43867bfc56f9",
   "metadata": {},
   "outputs": [
    {
     "name": "stdout",
     "output_type": "stream",
     "text": [
      "[1, 2, 3, 'rakshi', 'r', 'a', 'k', 's', 'h', 'i', 1, 2, {40, 30}, [1, 2, 'kolla']]\n",
      "a\n",
      "[1, 2, 'kolla']\n",
      "2\n",
      "[1, 3, 'rakshi', 'r', 'a', 'k', 's', 'h', 'i', 1, 2, {40, 30}]\n",
      "None\n",
      "[3, 'rakshi', 'r', 'a', 'k', 's', 'h', 'i', 1, 2, {40, 30}]\n",
      "[3, 'rakshi', 'r', 'rakshi', 'a', 'k', 's', 'h', 'i', 1, 2, {40, 30}]\n",
      "[3, 'rakshi', 'r', 'rakshi', 'a', 'k', 's', 'h', 'i', 1, 2, {40, 30}]\n",
      "2\n",
      "1\n",
      "[1, 2, 323, 34532, 34543]\n",
      "[34543, 34532, 323, 2, 1]\n",
      "69401\n"
     ]
    }
   ],
   "source": [
    "print(l);\n",
    "print(l[3][1]);\n",
    "print(l.pop());\n",
    "print(l.pop(1));#removes index 1 ele\n",
    "print(l)\n",
    "print(l.remove(1));#1 is removed not index\n",
    "print(l)\n",
    "l.insert(3,\"rakshi\");\n",
    "print(l);\n",
    "#print(l[1].sort());str int not support\n",
    "print(l);\n",
    "print(l.index(\"r\"));\n",
    "print(l.count(\"k\"));\n",
    "q=[1,2,34543,34532,323];\n",
    "q.sort();\n",
    "print(q);\n",
    "q.reverse();\n",
    "print(q);\n",
    "print(sum(q));"
   ]
  },
  {
   "cell_type": "code",
   "execution_count": 163,
   "id": "afd7acdb-9dbf-4d5c-957c-f5dbc6662a72",
   "metadata": {},
   "outputs": [
    {
     "name": "stdout",
     "output_type": "stream",
     "text": [
      "[[1, 2], 2, 56, 8]\n",
      "[[1, 2, 'rakshi'], 2, 56, 8]\n",
      "False\n"
     ]
    }
   ],
   "source": [
    "li=[[1,2,3],2,56,8];\n",
    "li[0].pop();\n",
    "print(li);\n",
    "li[0].append(\"rakshi\");\n",
    "print(li);\n",
    "print(li[0][2].isdigit());"
   ]
  },
  {
   "cell_type": "code",
   "execution_count": 177,
   "id": "9de9a319-8023-4dda-9fe5-e7fe4f5419d4",
   "metadata": {},
   "outputs": [
    {
     "name": "stdout",
     "output_type": "stream",
     "text": [
      "{1: [1, 2], 2: {1, 2}, 'r': 2}\n",
      "dict_keys([1, 2, 'r'])\n",
      "dict_values([[1, 2], {1, 2}, 2])\n",
      "dict_items([(1, [1, 2]), (2, {1, 2}), ('r', 2)])\n",
      "[1, 2]\n",
      "[1, 2]\n",
      "{2: {1, 2}, 'r': 2}\n",
      "{2: {1, 2}}\n",
      "{2: (1, 2, 4), 1: [1, 12, 3, 23], 'r': 'rakshi'}\n",
      "1\n",
      "None\n",
      "{2: (1, 2, 4), 1: [1, 3, 12, 23], 'r': 'rakshi'}\n",
      "23\n",
      "{2: (1, 2, 4), 1: [1, 3, 12], 'r': 'rakshi'}\n",
      "{2: (1, 2, 4), 1: [1, 3, 12], 'r': 'rakshi'}\n",
      "{2: (1, 2, 4), 1: [1, 3, 12], 'r': 'rakshi'}\n"
     ]
    }
   ],
   "source": [
    "#dictionaries\n",
    "dict={1:[1,2],2:{1,2},\"r\":2};\n",
    "print(dict);\n",
    "print(dict.keys());\n",
    "print(dict.values());\n",
    "print(dict.items());\n",
    "print(dict.get(1));\n",
    "print(dict[1]);\n",
    "dict.pop(1);\n",
    "print(dict);\n",
    "dict.popitem();\n",
    "print(dict);\n",
    "dict.update({1:[1,12,3,23]});\n",
    "dict.update({\"r\":\"rakshi\"});\n",
    "dict.update({2:(1,2,4)});\n",
    "print(dict);\n",
    "print(dict[1][0]);\n",
    "print(dict[1].sort());\n",
    "print(dict);\n",
    "print(dict[1].pop());\n",
    "print(dict);\n",
    "print(dict);\n",
    "print(dict);\n"
   ]
  },
  {
   "cell_type": "code",
   "execution_count": 193,
   "id": "b117fca2-c8da-47d4-81f4-accc858c28ae",
   "metadata": {},
   "outputs": [
    {
     "name": "stdout",
     "output_type": "stream",
     "text": [
      "(1, 2, [12.3, 34], 1, 2)\n",
      "(1, 2, [12.3], 1, 2)\n",
      "2\n",
      "1\n",
      "(1, 2, [12.3], 1, 2, 1, 2, [12.3], 1, 2)\n",
      "(1, 2, [12.3], 1, 2, 1, 2, [12.3], 1, 2)\n"
     ]
    }
   ],
   "source": [
    "#tuple\n",
    "t=(1,2,[12.3,34],1,2);\n",
    "print(t);\n",
    "t[2].pop();\n",
    "print(t);\n",
    "#t.pop(); error\n",
    "print(t.count(1));\n",
    "print(t.index(2));\n",
    "print(t*2);\n",
    "t1=t*2;\n",
    "print(t1);"
   ]
  },
  {
   "cell_type": "code",
   "execution_count": 198,
   "id": "07caf698-f65d-49f1-b621-1a372ddec856",
   "metadata": {},
   "outputs": [
    {
     "name": "stdout",
     "output_type": "stream",
     "text": [
      "True\n",
      "False\n",
      "True\n",
      "False\n",
      "False\n",
      "False\n"
     ]
    }
   ],
   "source": [
    "#string\n",
    "str=\"kollarakshi\"\n",
    "print(str.isalpha());#a to z A to Z\n",
    "print(str.isdigit());# 0 to 9\n",
    "print(str.isalnum());#AtoZ a to z 0 to 9\n",
    "str=\"kolla rakshi1\"\n",
    "print(str.isalpha());\n",
    "print(str.isdigit());\n",
    "print(str.isalnum());"
   ]
  },
  {
   "cell_type": "code",
   "execution_count": 213,
   "id": "76648c12-3112-4976-b6ef-454a387f154b",
   "metadata": {},
   "outputs": [
    {
     "name": "stdout",
     "output_type": "stream",
     "text": [
      "kolla rakshi1\n",
      "KOLLA RAKSHI1\n",
      "kolla rakshi1\n",
      "kolla rakshi1\n",
      "['kolla', 'rakshi1']\n",
      "Kolla raKshi1\n",
      "0\n",
      "2\n",
      "0\n",
      "False\n",
      "True\n",
      "False\n",
      "kolla rakshi1\n"
     ]
    }
   ],
   "source": [
    "print(str.lower());\n",
    "print(str.upper());\n",
    "print(str.strip());\n",
    "print(str)\n",
    "str1=str.split();\n",
    "print(str1);\n",
    "print(str.replace(\"k\",\"K\"));\n",
    "print(str.find(\"k\"));\n",
    "print(str.count(\"l\"));\n",
    "print(str.index(\"k\"));\n",
    "str1=\"rakshi\";\n",
    "str2=\"Rakshi\";\n",
    "print(str1==str2);\n",
    "print(str1>str2);\n",
    "print(str1<str2);\n",
    "print(str);"
   ]
  },
  {
   "cell_type": "code",
   "execution_count": 214,
   "id": "e5ac5942-c3d1-4700-ac8f-016be48b4fdb",
   "metadata": {},
   "outputs": [],
   "source": [
    "if(2>3):\n",
    "    print(\"truye\")\n"
   ]
  },
  {
   "cell_type": "code",
   "execution_count": 215,
   "id": "6f46c9fe-18ec-43ac-83be-4be2ce3f090d",
   "metadata": {},
   "outputs": [
    {
     "name": "stdout",
     "output_type": "stream",
     "text": [
      "false\n"
     ]
    }
   ],
   "source": [
    "if(2>3):\n",
    "    print(\"truye\")\n",
    "else:\n",
    "    print(\"false\")"
   ]
  },
  {
   "cell_type": "code",
   "execution_count": 216,
   "id": "3b344aaf-30c0-4a54-9e55-74e3450b68b9",
   "metadata": {},
   "outputs": [
    {
     "name": "stdout",
     "output_type": "stream",
     "text": [
      "less\n"
     ]
    }
   ],
   "source": [
    "if(2>3):\n",
    "    print(\"greater\")\n",
    "elif(2<3):\n",
    "    print(\"less\")\n",
    "    "
   ]
  },
  {
   "cell_type": "code",
   "execution_count": 218,
   "id": "3dcabd4c-284c-4ca0-a53d-3611e4606e6d",
   "metadata": {},
   "outputs": [
    {
     "ename": "SyntaxError",
     "evalue": "'break' outside loop (4084118345.py, line 7)",
     "output_type": "error",
     "traceback": [
      "\u001b[0;36m  Cell \u001b[0;32mIn[218], line 7\u001b[0;36m\u001b[0m\n\u001b[0;31m    break\u001b[0m\n\u001b[0m    ^\u001b[0m\n\u001b[0;31mSyntaxError\u001b[0m\u001b[0;31m:\u001b[0m 'break' outside loop\n"
     ]
    }
   ],
   "source": [
    "if(2>3):\n",
    "    print(\"greater\")\n",
    "elif(2<3):\n",
    "    print(\"less\")\n",
    "else:\n",
    "    print(\"equal\")\n",
    "    #break cannot be used ouside loop"
   ]
  },
  {
   "cell_type": "code",
   "execution_count": 155,
   "id": "1c433bc2-fef5-40b9-a903-6b8943e6bb7d",
   "metadata": {},
   "outputs": [
    {
     "name": "stdout",
     "output_type": "stream",
     "text": [
      "hello\n",
      "rakshi\thello 3\n"
     ]
    }
   ],
   "source": [
    "print(\"hello\\nrakshi\\thello\",3);"
   ]
  }
 ],
 "metadata": {
  "kernelspec": {
   "display_name": "Python 3 (ipykernel)",
   "language": "python",
   "name": "python3"
  },
  "language_info": {
   "codemirror_mode": {
    "name": "ipython",
    "version": 3
   },
   "file_extension": ".py",
   "mimetype": "text/x-python",
   "name": "python",
   "nbconvert_exporter": "python",
   "pygments_lexer": "ipython3",
   "version": "3.8.10"
  }
 },
 "nbformat": 4,
 "nbformat_minor": 5
}
